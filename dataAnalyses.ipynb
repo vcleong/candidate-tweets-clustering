{
 "cells": [
  {
   "cell_type": "code",
   "execution_count": 1,
   "metadata": {},
   "outputs": [],
   "source": [
    "import pandas as pd"
   ]
  },
  {
   "cell_type": "code",
   "execution_count": 2,
   "metadata": {
    "scrolled": true
   },
   "outputs": [],
   "source": [
    "AllTweets = pd.read_pickle('AllTweets.pkl')"
   ]
  },
  {
   "cell_type": "markdown",
   "metadata": {},
   "source": [
    "# Independent Chi-square Test\n",
    "\n",
    "#### Create crosstable"
   ]
  },
  {
   "cell_type": "code",
   "execution_count": 3,
   "metadata": {},
   "outputs": [],
   "source": [
    "from scipy import stats"
   ]
  },
  {
   "cell_type": "code",
   "execution_count": 4,
   "metadata": {
    "scrolled": true
   },
   "outputs": [
    {
     "data": {
      "text/html": [
       "<div>\n",
       "<style scoped>\n",
       "    .dataframe tbody tr th:only-of-type {\n",
       "        vertical-align: middle;\n",
       "    }\n",
       "\n",
       "    .dataframe tbody tr th {\n",
       "        vertical-align: top;\n",
       "    }\n",
       "\n",
       "    .dataframe thead th {\n",
       "        text-align: right;\n",
       "    }\n",
       "</style>\n",
       "<table border=\"1\" class=\"dataframe\">\n",
       "  <thead>\n",
       "    <tr style=\"text-align: right;\">\n",
       "      <th>username</th>\n",
       "      <th>HillaryClinton</th>\n",
       "      <th>JoeBiden</th>\n",
       "      <th>realDonaldTrump</th>\n",
       "    </tr>\n",
       "    <tr>\n",
       "      <th>retweetsR</th>\n",
       "      <th></th>\n",
       "      <th></th>\n",
       "      <th></th>\n",
       "    </tr>\n",
       "  </thead>\n",
       "  <tbody>\n",
       "    <tr>\n",
       "      <th>0</th>\n",
       "      <td>597</td>\n",
       "      <td>5238</td>\n",
       "      <td>125</td>\n",
       "    </tr>\n",
       "    <tr>\n",
       "      <th>1</th>\n",
       "      <td>2629</td>\n",
       "      <td>0</td>\n",
       "      <td>3093</td>\n",
       "    </tr>\n",
       "  </tbody>\n",
       "</table>\n",
       "</div>"
      ],
      "text/plain": [
       "username   HillaryClinton  JoeBiden  realDonaldTrump\n",
       "retweetsR                                           \n",
       "0                     597      5238              125\n",
       "1                    2629         0             3093"
      ]
     },
     "execution_count": 4,
     "metadata": {},
     "output_type": "execute_result"
    }
   ],
   "source": [
    "tweets_crosstab = pd.crosstab(AllTweets['retweetsR'],AllTweets['username'])\n",
    "tweets_crosstab"
   ]
  },
  {
   "cell_type": "markdown",
   "metadata": {},
   "source": [
    "#### Run analysis"
   ]
  },
  {
   "cell_type": "code",
   "execution_count": 5,
   "metadata": {
    "scrolled": true
   },
   "outputs": [
    {
     "data": {
      "text/plain": [
       "(9254.334999349416,\n",
       " 0.0,\n",
       " 2,\n",
       " array([[1645.86200993, 2672.35747304, 1641.78051703],\n",
       "        [1580.13799007, 2565.64252696, 1576.21948297]]))"
      ]
     },
     "execution_count": 5,
     "metadata": {},
     "output_type": "execute_result"
    }
   ],
   "source": [
    "stats.chi2_contingency(tweets_crosstab)"
   ]
  },
  {
   "cell_type": "markdown",
   "metadata": {},
   "source": [
    "Chi-square: 9254.33\n",
    "p-value: 0.0\n",
    "\n",
    "The identity (username) of a candidate has significant influence on the retweet engagement there will be with their tweets. \n",
    "\n",
    "Of the three candidates, Biden's tweets are reposted substantially more than either Clinton or Trump. In the 2016 presidential campaign, Clinton was retweeted more frequently than Trump, although for both of them their tweets were more often not retweeted."
   ]
  },
  {
   "cell_type": "markdown",
   "metadata": {},
   "source": [
    "# Text clustering with K-means\n"
   ]
  },
  {
   "cell_type": "code",
   "execution_count": 6,
   "metadata": {},
   "outputs": [],
   "source": [
    "# Corpus processing\n",
    "import re\n",
    "import nltk.corpus\n",
    "\n",
    "from nltk.corpus                      import stopwords\n",
    "from unidecode                        import unidecode\n",
    "from nltk.tokenize                    import word_tokenize\n",
    "from nltk                             import SnowballStemmer\n",
    "from nltk.tokenize                    import RegexpTokenizer\n",
    "from sklearn.preprocessing            import normalize\n",
    "\n",
    "# K-means\n",
    "from sklearn import cluster"
   ]
  },
  {
   "cell_type": "markdown",
   "metadata": {},
   "source": [
    "### Load data \n",
    "\n",
    "Extract 'tweet' column into a list of text for corpus. "
   ]
  },
  {
   "cell_type": "code",
   "execution_count": 7,
   "metadata": {
    "scrolled": true
   },
   "outputs": [
    {
     "data": {
      "text/html": [
       "<div>\n",
       "<style scoped>\n",
       "    .dataframe tbody tr th:only-of-type {\n",
       "        vertical-align: middle;\n",
       "    }\n",
       "\n",
       "    .dataframe tbody tr th {\n",
       "        vertical-align: top;\n",
       "    }\n",
       "\n",
       "    .dataframe thead th {\n",
       "        text-align: right;\n",
       "    }\n",
       "</style>\n",
       "<table border=\"1\" class=\"dataframe\">\n",
       "  <thead>\n",
       "    <tr style=\"text-align: right;\">\n",
       "      <th></th>\n",
       "      <th>username</th>\n",
       "      <th>tweet</th>\n",
       "    </tr>\n",
       "  </thead>\n",
       "  <tbody>\n",
       "    <tr>\n",
       "      <th>0</th>\n",
       "      <td>JoeBiden</td>\n",
       "      <td>Donald Trump looks at this violence and sees a...</td>\n",
       "    </tr>\n",
       "    <tr>\n",
       "      <th>1</th>\n",
       "      <td>JoeBiden</td>\n",
       "      <td>Folks, we're just hours away from our first en...</td>\n",
       "    </tr>\n",
       "    <tr>\n",
       "      <th>2</th>\n",
       "      <td>JoeBiden</td>\n",
       "      <td>The truth is Donald Trump can't stop the viole...</td>\n",
       "    </tr>\n",
       "    <tr>\n",
       "      <th>3</th>\n",
       "      <td>JoeBiden</td>\n",
       "      <td>Anyone who met Amari will tell you that he was...</td>\n",
       "    </tr>\n",
       "    <tr>\n",
       "      <th>4</th>\n",
       "      <td>JoeBiden</td>\n",
       "      <td>More cops have died from COVID this year than ...</td>\n",
       "    </tr>\n",
       "  </tbody>\n",
       "</table>\n",
       "</div>"
      ],
      "text/plain": [
       "   username                                              tweet\n",
       "0  JoeBiden  Donald Trump looks at this violence and sees a...\n",
       "1  JoeBiden  Folks, we're just hours away from our first en...\n",
       "2  JoeBiden  The truth is Donald Trump can't stop the viole...\n",
       "3  JoeBiden  Anyone who met Amari will tell you that he was...\n",
       "4  JoeBiden  More cops have died from COVID this year than ..."
      ]
     },
     "execution_count": 7,
     "metadata": {},
     "output_type": "execute_result"
    }
   ],
   "source": [
    "AllTweets1 = AllTweets[['username','tweet']]\n",
    "AllTweets1.head()"
   ]
  },
  {
   "cell_type": "markdown",
   "metadata": {},
   "source": [
    "### Cluster Analysis"
   ]
  },
  {
   "cell_type": "code",
   "execution_count": 8,
   "metadata": {},
   "outputs": [],
   "source": [
    "# Visualization and Analysis\n",
    "import matplotlib.cm as cm\n",
    "from sklearn.metrics import silhouette_samples, silhouette_score\n",
    "from sklearn.feature_extraction.text  import TfidfVectorizer\n",
    "from sklearn.feature_extraction import text\n",
    "\n",
    "# Map Visualization\n",
    "import folium\n",
    "\n",
    "# import branca.colormap as cm\n",
    "from branca.element import Figure"
   ]
  },
  {
   "cell_type": "markdown",
   "metadata": {},
   "source": [
    "#### Vectorization"
   ]
  },
  {
   "cell_type": "code",
   "execution_count": 38,
   "metadata": {},
   "outputs": [
    {
     "data": {
      "text/plain": [
       "frozenset({'!',\n",
       "           '\"',\n",
       "           '#',\n",
       "           '%',\n",
       "           \"'\",\n",
       "           '(',\n",
       "           ')',\n",
       "           ',',\n",
       "           '.',\n",
       "           ':',\n",
       "           ';',\n",
       "           '?',\n",
       "           '@',\n",
       "           '[',\n",
       "           ']',\n",
       "           'a',\n",
       "           'about',\n",
       "           'above',\n",
       "           'across',\n",
       "           'after',\n",
       "           'afterwards',\n",
       "           'again',\n",
       "           'against',\n",
       "           'alabama',\n",
       "           'alaska',\n",
       "           'all',\n",
       "           'almost',\n",
       "           'alone',\n",
       "           'along',\n",
       "           'already',\n",
       "           'also',\n",
       "           'although',\n",
       "           'always',\n",
       "           'am',\n",
       "           'among',\n",
       "           'amongst',\n",
       "           'amoungst',\n",
       "           'amount',\n",
       "           'an',\n",
       "           'and',\n",
       "           'another',\n",
       "           'any',\n",
       "           'anyhow',\n",
       "           'anyone',\n",
       "           'anything',\n",
       "           'anyway',\n",
       "           'anywhere',\n",
       "           'are',\n",
       "           'arizona',\n",
       "           'arkansas',\n",
       "           'around',\n",
       "           'as',\n",
       "           'at',\n",
       "           'back',\n",
       "           'be',\n",
       "           'became',\n",
       "           'because',\n",
       "           'become',\n",
       "           'becomes',\n",
       "           'becoming',\n",
       "           'been',\n",
       "           'before',\n",
       "           'beforehand',\n",
       "           'behind',\n",
       "           'being',\n",
       "           'below',\n",
       "           'beside',\n",
       "           'besides',\n",
       "           'between',\n",
       "           'beyond',\n",
       "           'bill',\n",
       "           'both',\n",
       "           'bottom',\n",
       "           'but',\n",
       "           'by',\n",
       "           'california',\n",
       "           'call',\n",
       "           'can',\n",
       "           'cannot',\n",
       "           'cant',\n",
       "           'carolina',\n",
       "           'co',\n",
       "           'colorado',\n",
       "           'columbia',\n",
       "           'com',\n",
       "           'con',\n",
       "           'connecticut',\n",
       "           'could',\n",
       "           'couldnt',\n",
       "           'cry',\n",
       "           'dakota',\n",
       "           'de',\n",
       "           'delaware',\n",
       "           'describe',\n",
       "           'detail',\n",
       "           'district ',\n",
       "           'do',\n",
       "           'done',\n",
       "           'down',\n",
       "           'due',\n",
       "           'during',\n",
       "           'each',\n",
       "           'eg',\n",
       "           'eight',\n",
       "           'either',\n",
       "           'eleven',\n",
       "           'else',\n",
       "           'elsewhere',\n",
       "           'empty',\n",
       "           'enough',\n",
       "           'etc',\n",
       "           'even',\n",
       "           'ever',\n",
       "           'every',\n",
       "           'everyone',\n",
       "           'everything',\n",
       "           'everywhere',\n",
       "           'except',\n",
       "           'few',\n",
       "           'fifteen',\n",
       "           'fifty',\n",
       "           'fill',\n",
       "           'find',\n",
       "           'fire',\n",
       "           'first',\n",
       "           'five',\n",
       "           'florida',\n",
       "           'for',\n",
       "           'former',\n",
       "           'formerly',\n",
       "           'forty',\n",
       "           'found',\n",
       "           'four',\n",
       "           'from',\n",
       "           'front',\n",
       "           'full',\n",
       "           'further',\n",
       "           'georgia',\n",
       "           'get',\n",
       "           'give',\n",
       "           'go',\n",
       "           'had',\n",
       "           'hampshire',\n",
       "           'has',\n",
       "           'hasnt',\n",
       "           'have',\n",
       "           'hawaii',\n",
       "           'he',\n",
       "           'hence',\n",
       "           'her',\n",
       "           'here',\n",
       "           'hereafter',\n",
       "           'hereby',\n",
       "           'herein',\n",
       "           'hereupon',\n",
       "           'hers',\n",
       "           'herself',\n",
       "           'hillaryclinton',\n",
       "           'him',\n",
       "           'himself',\n",
       "           'his',\n",
       "           'how',\n",
       "           'however',\n",
       "           'http',\n",
       "           'https',\n",
       "           'hundred',\n",
       "           'i',\n",
       "           'idaho',\n",
       "           'ie',\n",
       "           'if',\n",
       "           'illinois',\n",
       "           'in',\n",
       "           'inc',\n",
       "           'indeed',\n",
       "           'indiana',\n",
       "           'interest',\n",
       "           'into',\n",
       "           'iowa',\n",
       "           'is',\n",
       "           'it',\n",
       "           'its',\n",
       "           'itself',\n",
       "           'jersey',\n",
       "           'joebiden',\n",
       "           'kansas',\n",
       "           'keep',\n",
       "           'kentucky',\n",
       "           'last',\n",
       "           'latter',\n",
       "           'latterly',\n",
       "           'least',\n",
       "           'less',\n",
       "           'like',\n",
       "           'louisiana',\n",
       "           'ltd',\n",
       "           'made',\n",
       "           'maine',\n",
       "           'many',\n",
       "           'maryland',\n",
       "           'massachusetts',\n",
       "           'may',\n",
       "           'me',\n",
       "           'meanwhile',\n",
       "           'michigan',\n",
       "           'might',\n",
       "           'mill',\n",
       "           'mine',\n",
       "           'minnesota',\n",
       "           'mississippi',\n",
       "           'missouri',\n",
       "           'montana',\n",
       "           'more',\n",
       "           'moreover',\n",
       "           'most',\n",
       "           'mostly',\n",
       "           'move',\n",
       "           'much',\n",
       "           'must',\n",
       "           'my',\n",
       "           'myself',\n",
       "           'name',\n",
       "           'namely',\n",
       "           'nebraska',\n",
       "           'neither',\n",
       "           'nevada',\n",
       "           'never',\n",
       "           'nevertheless',\n",
       "           'next',\n",
       "           'nine',\n",
       "           'no',\n",
       "           'nobody',\n",
       "           'none',\n",
       "           'noone',\n",
       "           'nor',\n",
       "           'north',\n",
       "           'not',\n",
       "           'nothing',\n",
       "           'now',\n",
       "           'nowhere',\n",
       "           'of',\n",
       "           'off',\n",
       "           'often',\n",
       "           'ohio',\n",
       "           'oklahoma',\n",
       "           'on',\n",
       "           'once',\n",
       "           'one',\n",
       "           'only',\n",
       "           'onto',\n",
       "           'or',\n",
       "           'oregon',\n",
       "           'other',\n",
       "           'others',\n",
       "           'otherwise',\n",
       "           'our',\n",
       "           'ours',\n",
       "           'ourselves',\n",
       "           'out',\n",
       "           'over',\n",
       "           'own',\n",
       "           'part',\n",
       "           'pennsylvania',\n",
       "           'per',\n",
       "           'perhaps',\n",
       "           'pic',\n",
       "           'please',\n",
       "           'puerto rico',\n",
       "           'put',\n",
       "           'rather',\n",
       "           're',\n",
       "           'realdonaldtrump',\n",
       "           'rhode island',\n",
       "           'same',\n",
       "           'see',\n",
       "           'seem',\n",
       "           'seemed',\n",
       "           'seeming',\n",
       "           'seems',\n",
       "           'serious',\n",
       "           'several',\n",
       "           'she',\n",
       "           'should',\n",
       "           'show',\n",
       "           'side',\n",
       "           'since',\n",
       "           'sincere',\n",
       "           'six',\n",
       "           'sixty',\n",
       "           'so',\n",
       "           'some',\n",
       "           'somehow',\n",
       "           'someone',\n",
       "           'something',\n",
       "           'sometime',\n",
       "           'sometimes',\n",
       "           'somewhere',\n",
       "           'south',\n",
       "           'status',\n",
       "           'still',\n",
       "           'such',\n",
       "           'system',\n",
       "           'take',\n",
       "           'ten',\n",
       "           'tennessee',\n",
       "           'texas',\n",
       "           'than',\n",
       "           'that',\n",
       "           'the',\n",
       "           'their',\n",
       "           'them',\n",
       "           'themselves',\n",
       "           'then',\n",
       "           'thence',\n",
       "           'there',\n",
       "           'thereafter',\n",
       "           'thereby',\n",
       "           'therefore',\n",
       "           'therein',\n",
       "           'thereupon',\n",
       "           'these',\n",
       "           'they',\n",
       "           'thick',\n",
       "           'thin',\n",
       "           'third',\n",
       "           'this',\n",
       "           'those',\n",
       "           'though',\n",
       "           'three',\n",
       "           'through',\n",
       "           'throughout',\n",
       "           'thru',\n",
       "           'thus',\n",
       "           'to',\n",
       "           'together',\n",
       "           'too',\n",
       "           'top',\n",
       "           'toward',\n",
       "           'towards',\n",
       "           'twelve',\n",
       "           'twenty',\n",
       "           'twitter',\n",
       "           'two',\n",
       "           'un',\n",
       "           'under',\n",
       "           'until',\n",
       "           'up',\n",
       "           'upon',\n",
       "           'us',\n",
       "           'utah',\n",
       "           'vermont',\n",
       "           'very',\n",
       "           'via',\n",
       "           'virginia',\n",
       "           'was',\n",
       "           'washington',\n",
       "           'we',\n",
       "           'well',\n",
       "           'were',\n",
       "           'west virginia',\n",
       "           'what',\n",
       "           'whatever',\n",
       "           'when',\n",
       "           'whence',\n",
       "           'whenever',\n",
       "           'where',\n",
       "           'whereafter',\n",
       "           'whereas',\n",
       "           'whereby',\n",
       "           'wherein',\n",
       "           'whereupon',\n",
       "           'wherever',\n",
       "           'whether',\n",
       "           'which',\n",
       "           'while',\n",
       "           'whither',\n",
       "           'who',\n",
       "           'whoever',\n",
       "           'whole',\n",
       "           'whom',\n",
       "           'whose',\n",
       "           'why',\n",
       "           'will',\n",
       "           'wisconsin',\n",
       "           'with',\n",
       "           'within',\n",
       "           'without',\n",
       "           'would',\n",
       "           'www',\n",
       "           'wyoming',\n",
       "           'yet',\n",
       "           'york',\n",
       "           'you',\n",
       "           'your',\n",
       "           'yours',\n",
       "           'yourself',\n",
       "           'yourselves',\n",
       "           '{',\n",
       "           '}'})"
      ]
     },
     "execution_count": 38,
     "metadata": {},
     "output_type": "execute_result"
    }
   ],
   "source": [
    "add = ['.', ',', '\"', \"'\", '?', '!', ':', ';', '(', ')', '[', ']', '{', '}',\"%\",'@','#','http','com','www','twitter','status','realdonaldtrump','hillaryclinton','https','pic','joebiden','https','like',\"alaska\", \"alabama\", \"arkansas\", \"arizona\", \"california\", \"colorado\", \"connecticut\", \"district \", \"columbia\", \"delaware\", \"florida\", \"georgia\", \"hawaii\", \"iowa\", \"idaho\", \"illinois\", \"indiana\", \"kansas\", \"kentucky\", \"louisiana\", \"massachusetts\", \"maryland\", \"maine\", \"michigan\", \"minnesota\", \"missouri\", \"mississippi\", \"montana\", \"north\", \"south\",\"carolina\",\"dakota\", \"nebraska\", \"hampshire\", \"jersey\", \"nevada\", \"york\", \"ohio\", \"oklahoma\", \"oregon\", \"pennsylvania\", \"puerto rico\", \"rhode island\", \"tennessee\", \"texas\", \"utah\", \"virginia\", \"vermont\", \"washington\", \"wisconsin\", \"west virginia\", \"wyoming\"]\n",
    "stop_words = text.ENGLISH_STOP_WORDS.union(add)\n",
    "stop_words"
   ]
  },
  {
   "cell_type": "code",
   "execution_count": 39,
   "metadata": {},
   "outputs": [
    {
     "name": "stderr",
     "output_type": "stream",
     "text": [
      "/opt/anaconda3/lib/python3.7/site-packages/sklearn/feature_extraction/text.py:385: UserWarning: Your stop_words may be inconsistent with your preprocessing. Tokenizing the stop words generated tokens ['district', 'island', 'puerto', 'rhode', 'rico', 'west'] not in stop_words.\n",
      "  'stop_words.' % sorted(inconsistent))\n"
     ]
    }
   ],
   "source": [
    "desc = AllTweets1['tweet'].values\n",
    "vectorizer = TfidfVectorizer(stop_words = stop_words)\n",
    "X = vectorizer.fit_transform(desc)"
   ]
  },
  {
   "cell_type": "code",
   "execution_count": 40,
   "metadata": {},
   "outputs": [],
   "source": [
    "word_features = vectorizer.get_feature_names()"
   ]
  },
  {
   "cell_type": "markdown",
   "metadata": {},
   "source": [
    "#### Stem & tokenize the data\n",
    "\n",
    "Stemming reduces the word to its root form, or \"stem\", which may not actually be a real word in itself. Tokenizing separates words from their syntactical context, essentially breaking down sentences into individual words and punctuation. "
   ]
  },
  {
   "cell_type": "code",
   "execution_count": 41,
   "metadata": {},
   "outputs": [],
   "source": [
    "stemmer = SnowballStemmer('english')\n",
    "tokenizer = RegexpTokenizer(r'[a-zA-Z\\']+')\n",
    "\n",
    "def tokenize(text):\n",
    "    return [stemmer.stem(word) for word in tokenizer.tokenize(text.lower())]"
   ]
  },
  {
   "cell_type": "markdown",
   "metadata": {},
   "source": [
    "Vectorizing the data converts the text into a vector. Here, the stopwords (unnecessary and irrelevant words) are removed, and the data is stemmed and tokenized as well."
   ]
  },
  {
   "cell_type": "code",
   "execution_count": 42,
   "metadata": {
    "scrolled": true
   },
   "outputs": [
    {
     "name": "stderr",
     "output_type": "stream",
     "text": [
      "/opt/anaconda3/lib/python3.7/site-packages/sklearn/feature_extraction/text.py:385: UserWarning: Your stop_words may be inconsistent with your preprocessing. Tokenizing the stop words generated tokens ['abov', 'afterward', 'alon', 'alreadi', 'alway', 'ani', 'anoth', 'anyon', 'anyth', 'anywher', 'arkansa', 'becam', 'becaus', 'becom', 'befor', 'besid', 'cri', 'delawar', 'describ', 'district', 'dure', 'els', 'elsewher', 'empti', 'everi', 'everyon', 'everyth', 'everywher', 'fifti', 'forti', 'hampshir', 'henc', 'hereaft', 'herebi', 'howev', 'hundr', 'illinoi', 'inde', 'island', 'kansa', 'kentucki', 'main', 'mani', 'massachusett', 'meanwhil', 'moreov', 'nobodi', 'noon', 'noth', 'nowher', 'onc', 'onli', 'otherwis', 'ourselv', 'perhap', 'pleas', 'puerto', 'rhode', 'rico', 'sever', 'sinc', 'sincer', 'sixti', 'someon', 'someth', 'sometim', 'somewher', 'tennesse', 'texa', 'themselv', 'thenc', 'thereaft', 'therebi', 'therefor', 'togeth', 'twelv', 'twenti', 'veri', 'west', 'whatev', 'whenc', 'whenev', 'wherea', 'whereaft', 'wherebi', 'wherev', 'whi', 'wyom', 'yourselv'] not in stop_words.\n",
      "  'stop_words.' % sorted(inconsistent))\n"
     ]
    },
    {
     "name": "stdout",
     "output_type": "stream",
     "text": [
      "18148\n",
      "[\"''\", \"'a\", \"'i\", \"'s\", \"'u\", 'aa', 'aab', 'aac', 'aadaro', 'aadb', 'aae', 'aaek', 'aaioyi', 'aan', 'aanhpi', 'aanxirujjd', 'aapi', 'aapqgqbn', 'aarm', 'aaronblak', 'aarp', 'aarpadvoc', 'aarpiowaforum', 'aattabfoxx', 'aauthmw', 'aavftii', 'ab', 'aba', 'abandon', 'abas', 'abb', 'abbi', 'abbierbennett', 'abbott', 'abc', 'abcn', 'abcnetwork', 'abcnew', 'abcpolit', 'abcworldnew', 'abd', 'abdclosdyw', 'abddfd', 'abdeslam', 'abdic', 'abdiurx', 'abdoyx', 'aberdeen', 'abeshinzo', 'abet']\n"
     ]
    }
   ],
   "source": [
    "vectorizer2 = TfidfVectorizer(stop_words = stop_words, tokenizer = tokenize)\n",
    "X2 = vectorizer2.fit_transform(desc)\n",
    "word_features2 = vectorizer2.get_feature_names()\n",
    "print(len(word_features2))\n",
    "print(word_features2[:50])"
   ]
  },
  {
   "cell_type": "code",
   "execution_count": 43,
   "metadata": {
    "scrolled": false
   },
   "outputs": [
    {
     "name": "stderr",
     "output_type": "stream",
     "text": [
      "/opt/anaconda3/lib/python3.7/site-packages/sklearn/feature_extraction/text.py:385: UserWarning: Your stop_words may be inconsistent with your preprocessing. Tokenizing the stop words generated tokens ['abov', 'afterward', 'alon', 'alreadi', 'alway', 'ani', 'anoth', 'anyon', 'anyth', 'anywher', 'arkansa', 'becam', 'becaus', 'becom', 'befor', 'besid', 'cri', 'delawar', 'describ', 'district', 'dure', 'els', 'elsewher', 'empti', 'everi', 'everyon', 'everyth', 'everywher', 'fifti', 'forti', 'hampshir', 'henc', 'hereaft', 'herebi', 'howev', 'hundr', 'illinoi', 'inde', 'island', 'kansa', 'kentucki', 'main', 'mani', 'massachusett', 'meanwhil', 'moreov', 'nobodi', 'noon', 'noth', 'nowher', 'onc', 'onli', 'otherwis', 'ourselv', 'perhap', 'pleas', 'puerto', 'rhode', 'rico', 'sever', 'sinc', 'sincer', 'sixti', 'someon', 'someth', 'sometim', 'somewher', 'tennesse', 'texa', 'themselv', 'thenc', 'thereaft', 'therebi', 'therefor', 'togeth', 'twelv', 'twenti', 'veri', 'west', 'whatev', 'whenc', 'whenev', 'wherea', 'whereaft', 'wherebi', 'wherev', 'whi', 'wyom', 'yourselv'] not in stop_words.\n",
      "  'stop_words.' % sorted(inconsistent))\n"
     ]
    }
   ],
   "source": [
    "vectorizer3 = TfidfVectorizer(stop_words = stop_words, tokenizer = tokenize, max_features = 1000)\n",
    "X3 = vectorizer3.fit_transform(desc)\n",
    "words = vectorizer3.get_feature_names()"
   ]
  },
  {
   "cell_type": "markdown",
   "metadata": {},
   "source": [
    "#### Selecting the number of clusters to run for k-means"
   ]
  },
  {
   "cell_type": "code",
   "execution_count": 31,
   "metadata": {
    "scrolled": false
   },
   "outputs": [
    {
     "data": {
      "image/png": "[encoded data removed]",
      "text/plain": [
       "<Figure size 432x288 with 1 Axes>"
      ]
     },
     "metadata": {
      "needs_background": "light"
     },
     "output_type": "display_data"
    }
   ],
   "source": [
    "import matplotlib.pyplot as plt\n",
    "from sklearn.cluster import KMeans\n",
    "\n",
    "wcss = []\n",
    "for i in range(1,11):\n",
    "    kmeans = KMeans(n_clusters=i,init='k-means++',max_iter=300,n_init=10,random_state=0)\n",
    "    kmeans.fit(X3)\n",
    "    wcss.append(kmeans.inertia_)\n",
    "\n",
    "plt.plot(range(1,11),wcss)\n",
    "plt.title('The Elbow Method')\n",
    "plt.xlabel('Number of clusters')\n",
    "plt.ylabel('WCSS')\n",
    "plt.savefig('elbow.png')\n",
    "plt.show()"
   ]
  },
  {
   "cell_type": "markdown",
   "metadata": {},
   "source": [
    "The \"elbow\" is ambiguous, so determining the right amount of clusters to use will have to be done by testing different numbers of them. "
   ]
  },
  {
   "cell_type": "code",
   "execution_count": 44,
   "metadata": {
    "scrolled": true
   },
   "outputs": [
    {
     "name": "stdout",
     "output_type": "stream",
     "text": [
      "['e', 'earli', 'earn', 'easi', 'easier', 'econom', 'economi', 'ed', 'educ', 'effect', 'effort', 'el', 'elect', 'elimin', 'elizabeth', 'els', 'emerg', 'en', 'end', 'endors', 'energi', 'enforc', 'enjoy', 'ensur', 'entir', 'epidem', 'equal', 'equip', 'es', 'especi', 'est', 'et', 'event', 'everi', 'everybodi', 'everyon', 'everyth', 'exact', 'exampl', 'excit', 'exist', 'existenti', 'expand', 'experi', 'expert', 'extend', 'eye', 'f', 'face', 'facebook']\n"
     ]
    }
   ],
   "source": [
    "print(words[250:300])"
   ]
  },
  {
   "cell_type": "markdown",
   "metadata": {},
   "source": [
    "#### Running k-means and testing the analysis with different numbers of clusters"
   ]
  },
  {
   "cell_type": "code",
   "execution_count": 45,
   "metadata": {},
   "outputs": [
    {
     "name": "stdout",
     "output_type": "stream",
     "text": [
      "0 : t, trump, hillari, donald, s, make, america, presid, let, join, clinton, vote, peopl, great, say, h, new, american, y, watch, amp, plan, just, famili, w\n",
      "1 : thank, t, makeamericagreatagain, trump, great, new, americafirst, support, poll, votetrump, america, imwithyou, soon, hampshir, amp, maga, nbcnew, j, trumppenc, u, h, make, everyon, love, amaz\n",
      "2 : s, presid, trump, american, biden, peopl, make, need, america, donald, hillari, vp, day, countri, nation, great, time, just, today, joe, work, ofa, vote, year, everi\n"
     ]
    }
   ],
   "source": [
    "# 3 Clusters\n",
    "\n",
    "kmeans = KMeans(n_clusters = 3, n_init = 20, n_jobs = 1) \n",
    "# n_init: number of iterations for clustering\n",
    "# n_jobs: number of cpu cores to use\n",
    "\n",
    "kmeans.fit(X3)\n",
    "\n",
    "common_words = kmeans.cluster_centers_.argsort()[:,-1:-26:-1]\n",
    "for num, centroid in enumerate(common_words):\n",
    "    print(str(num) + ' : ' + ', '.join(words[word] for word in centroid))"
   ]
  },
  {
   "cell_type": "code",
   "execution_count": 46,
   "metadata": {},
   "outputs": [
    {
     "name": "stdout",
     "output_type": "stream",
     "text": [
      "0 : t, hillari, s, make, america, join, vote, let, clinton, presid, h, trump, amp, watch, great, new, y, live, w, potus, peopl, c, famili, k, american\n",
      "1 : trump, donald, t, presid, s, nation, american, america, make, say, just, peopl, let, white, know, need, hous, year, beat, countri, hillari, tax, great, day, time\n",
      "2 : s, presid, american, peopl, hillari, need, make, great, america, day, countri, time, work, just, today, joe, nation, everi, m, vote, right, year, job, care, famili\n",
      "3 : vp, ofa, bo, biden, s, romney, obama, presid, ryan, today, middl, yesterday, watch, class, tax, rt, vote, barackobama, mitt, joe, plan, vice, medicar, photo, week\n",
      "4 : thank, t, makeamericagreatagain, trump, great, new, votetrump, americafirst, poll, support, america, imwithyou, soon, hampshir, amp, nbcnew, maga, u, j, trumppenc, h, amaz, make, love, just\n"
     ]
    }
   ],
   "source": [
    "# 5 Clusters\n",
    "\n",
    "kmeans = KMeans(n_clusters = 5, n_init = 20, n_jobs = 1)\n",
    "\n",
    "kmeans.fit(X3)\n",
    "\n",
    "common_words = kmeans.cluster_centers_.argsort()[:,-1:-26:-1]\n",
    "for num, centroid in enumerate(common_words):\n",
    "    print(str(num) + ' : ' + ', '.join(words[word] for word in centroid))"
   ]
  },
  {
   "cell_type": "code",
   "execution_count": 47,
   "metadata": {},
   "outputs": [
    {
     "name": "stdout",
     "output_type": "stream",
     "text": [
      "0 : t, trump, make, s, america, join, let, great, amp, vote, h, presid, peopl, w, new, makeamericagreatagain, american, say, c, y, famili, x, n, rncincl, u\n",
      "1 : thank, t, makeamericagreatagain, trump, great, new, americafirst, votetrump, poll, america, support, imwithyou, soon, hampshir, nbcnew, amp, maga, u, j, trumppenc, h, make, amaz, love, r\n",
      "2 : hillari, t, clinton, crook, s, presid, watch, potus, live, peopl, want, make, just, bad, trump, vote, berni, know, believ, countri, say, job, m, american, america\n",
      "3 : donald, trump, t, presid, s, nation, american, america, white, let, hous, just, beat, make, peopl, year, say, need, countri, day, know, time, lead, crisi, elect\n",
      "4 : s, presid, american, need, peopl, great, make, america, day, countri, time, work, today, joe, just, nation, everi, vote, m, trump, right, year, care, live, famili\n",
      "5 : vp, ofa, bo, biden, s, romney, obama, presid, ryan, today, middl, yesterday, watch, class, tax, rt, barackobama, mitt, joe, vote, plan, vice, medicar, photo, week\n"
     ]
    }
   ],
   "source": [
    "# 6 Clusters\n",
    "\n",
    "kmeans = KMeans(n_clusters = 6, n_init = 20, n_jobs = 1)\n",
    "\n",
    "kmeans.fit(X3)\n",
    "\n",
    "common_words = kmeans.cluster_centers_.argsort()[:,-1:-26:-1]\n",
    "for num, centroid in enumerate(common_words):\n",
    "    print(str(num) + ' : ' + ', '.join(words[word] for word in centroid))"
   ]
  },
  {
   "cell_type": "code",
   "execution_count": 48,
   "metadata": {
    "scrolled": true
   },
   "outputs": [
    {
     "name": "stdout",
     "output_type": "stream",
     "text": [
      "0 : t, trump, s, join, let, vote, h, amp, presid, make, america, new, peopl, w, american, say, c, famili, n, y, right, u, thank, potus, women\n",
      "1 : thank, t, makeamericagreatagain, trump, new, votetrump, americafirst, imwithyou, soon, support, nbcnew, poll, hampshir, america, u, trumppenc, j, h, amp, great, maga, r, love, z, p\n",
      "2 : hillari, t, clinton, crook, s, presid, watch, potus, live, peopl, want, make, just, vote, bad, berni, trump, know, believ, countri, say, job, m, american, whi\n",
      "3 : s, presid, american, need, peopl, day, joe, time, countri, make, work, nation, today, everi, america, just, m, right, live, year, trump, vote, care, famili, togeth\n",
      "4 : ofa, vp, bo, biden, s, romney, obama, presid, ryan, today, yesterday, watch, rt, barackobama, vote, joe, mitt, week, debat, middl, day, campaign, vice, plan, medicar\n",
      "5 : trump, donald, t, presid, s, nation, american, white, hous, let, beat, just, peopl, year, america, say, need, make, countri, day, crisi, know, elect, time, lead\n",
      "6 : tax, cut, return, releas, trump, t, wealthi, class, middl, s, pay, super, donald, plan, famili, break, corpor, rate, american, presid, lower, biden, fair, year, wealth\n",
      "7 : great, america, make, thank, t, trump, job, peopl, poll, just, big, vote, amp, day, new, countri, amaz, crowd, today, support, speech, night, look, americafirst, honor\n"
     ]
    }
   ],
   "source": [
    "# 8 Clusters\n",
    "\n",
    "kmeans = KMeans(n_clusters = 8, n_init = 20, n_jobs = 1)\n",
    "\n",
    "kmeans.fit(X3)\n",
    "\n",
    "common_words = kmeans.cluster_centers_.argsort()[:,-1:-26:-1]\n",
    "for num, centroid in enumerate(common_words):\n",
    "    print(str(num) + ' : ' + ', '.join(words[word] for word in centroid))"
   ]
  },
  {
   "cell_type": "markdown",
   "metadata": {},
   "source": [
    "The analysis using 6 clusters looks like a decent choice to move forward with, given that the resulting clusters will be easier to work with for deciphering the categories."
   ]
  },
  {
   "cell_type": "markdown",
   "metadata": {},
   "source": [
    "### Visualizing the overall relationship between common words and word frequency"
   ]
  },
  {
   "cell_type": "code",
   "execution_count": 88,
   "metadata": {
    "scrolled": false
   },
   "outputs": [
    {
     "name": "stderr",
     "output_type": "stream",
     "text": [
      "/opt/anaconda3/lib/python3.7/site-packages/ipykernel_launcher.py:3: SettingWithCopyWarning: \n",
      "A value is trying to be set on a copy of a slice from a DataFrame.\n",
      "Try using .loc[row_indexer,col_indexer] = value instead\n",
      "\n",
      "See the caveats in the documentation: https://pandas.pydata.org/pandas-docs/stable/user_guide/indexing.html#returning-a-view-versus-a-copy\n",
      "  This is separate from the ipykernel package so we can avoid doing imports until\n"
     ]
    },
    {
     "name": "stdout",
     "output_type": "stream",
     "text": [
      "Word Count Median: 21.0\n",
      "count    11682.000000\n",
      "mean        23.051960\n",
      "std         11.748664\n",
      "min          1.000000\n",
      "25%         15.000000\n",
      "50%         21.000000\n",
      "75%         28.000000\n",
      "max         58.000000\n",
      "Name: word_count, dtype: float64\n"
     ]
    },
    {
     "data": {
      "image/png": "[encoded data removed]",
      "text/plain": [
       "<Figure size 432x288 with 1 Axes>"
      ]
     },
     "metadata": {},
     "output_type": "display_data"
    }
   ],
   "source": [
    "#Add a column to dataframe for the word count\n",
    "\n",
    "AllTweets1['word_count'] = AllTweets1['tweet'].apply(lambda x: len(str(x).split(\" \")))\n",
    "\n",
    "print(\"Word Count Median: \" + str(AllTweets1['word_count'].median()))\n",
    "print(AllTweets1['word_count'].describe())\n",
    "\n",
    "x = AllTweets1['word_count']\n",
    "n_bins = 95\n",
    "\n",
    "plt.hist(x, bins=n_bins)\n",
    "plt.xlabel('Number of Words in Tweet')\n",
    "plt.ylabel('Frequency')\n",
    "plt.show()"
   ]
  }
 ],
 "metadata": {
  "kernelspec": {
   "display_name": "Python 3",
   "language": "python",
   "name": "python3"
  },
  "language_info": {
   "codemirror_mode": {
    "name": "ipython",
    "version": 3
   },
   "file_extension": ".py",
   "mimetype": "text/x-python",
   "name": "python",
   "nbconvert_exporter": "python",
   "pygments_lexer": "ipython3",
   "version": "3.7.6"
  }
 },
 "nbformat": 4,
 "nbformat_minor": 4
}
