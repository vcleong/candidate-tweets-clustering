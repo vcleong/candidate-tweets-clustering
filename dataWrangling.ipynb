{
 "cells": [
  {
   "cell_type": "code",
   "execution_count": 1,
   "metadata": {},
   "outputs": [
    {
     "data": {
      "text/plain": [
       "'/Users/rena/Desktop'"
      ]
     },
     "execution_count": 1,
     "metadata": {},
     "output_type": "execute_result"
    }
   ],
   "source": [
    "import pandas as pd\n",
    "import os\n",
    "os.getcwd()"
   ]
  },
  {
   "cell_type": "markdown",
   "metadata": {},
   "source": [
    "# Data wrangling\n",
    "\n",
    "### Clinton vs. Trump"
   ]
  },
  {
   "cell_type": "code",
   "execution_count": 2,
   "metadata": {
    "scrolled": true
   },
   "outputs": [
    {
     "data": {
      "text/html": [
       "<div>\n",
       "<style scoped>\n",
       "    .dataframe tbody tr th:only-of-type {\n",
       "        vertical-align: middle;\n",
       "    }\n",
       "\n",
       "    .dataframe tbody tr th {\n",
       "        vertical-align: top;\n",
       "    }\n",
       "\n",
       "    .dataframe thead th {\n",
       "        text-align: right;\n",
       "    }\n",
       "</style>\n",
       "<table border=\"1\" class=\"dataframe\">\n",
       "  <thead>\n",
       "    <tr style=\"text-align: right;\">\n",
       "      <th></th>\n",
       "      <th>id</th>\n",
       "      <th>handle</th>\n",
       "      <th>text</th>\n",
       "      <th>is_retweet</th>\n",
       "      <th>original_author</th>\n",
       "      <th>time</th>\n",
       "      <th>in_reply_to_screen_name</th>\n",
       "      <th>in_reply_to_status_id</th>\n",
       "      <th>in_reply_to_user_id</th>\n",
       "      <th>is_quote_status</th>\n",
       "      <th>...</th>\n",
       "      <th>place_type</th>\n",
       "      <th>place_country_code</th>\n",
       "      <th>place_country</th>\n",
       "      <th>place_contained_within</th>\n",
       "      <th>place_attributes</th>\n",
       "      <th>place_bounding_box</th>\n",
       "      <th>source_url</th>\n",
       "      <th>truncated</th>\n",
       "      <th>entities</th>\n",
       "      <th>extended_entities</th>\n",
       "    </tr>\n",
       "  </thead>\n",
       "  <tbody>\n",
       "    <tr>\n",
       "      <th>0</th>\n",
       "      <td>780925634159796224</td>\n",
       "      <td>HillaryClinton</td>\n",
       "      <td>The question in this election: Who can put the...</td>\n",
       "      <td>False</td>\n",
       "      <td>NaN</td>\n",
       "      <td>2016-09-28T00:22:34</td>\n",
       "      <td>NaN</td>\n",
       "      <td>NaN</td>\n",
       "      <td>NaN</td>\n",
       "      <td>False</td>\n",
       "      <td>...</td>\n",
       "      <td>NaN</td>\n",
       "      <td>NaN</td>\n",
       "      <td>NaN</td>\n",
       "      <td>NaN</td>\n",
       "      <td>NaN</td>\n",
       "      <td>NaN</td>\n",
       "      <td>https://studio.twitter.com</td>\n",
       "      <td>False</td>\n",
       "      <td>{'media': [{'display_url': 'pic.twitter.com/Xr...</td>\n",
       "      <td>{'media': [{'display_url': 'pic.twitter.com/Xr...</td>\n",
       "    </tr>\n",
       "    <tr>\n",
       "      <th>1</th>\n",
       "      <td>780916180899037184</td>\n",
       "      <td>HillaryClinton</td>\n",
       "      <td>Last night, Donald Trump said not paying taxes...</td>\n",
       "      <td>True</td>\n",
       "      <td>timkaine</td>\n",
       "      <td>2016-09-27T23:45:00</td>\n",
       "      <td>NaN</td>\n",
       "      <td>NaN</td>\n",
       "      <td>NaN</td>\n",
       "      <td>False</td>\n",
       "      <td>...</td>\n",
       "      <td>NaN</td>\n",
       "      <td>NaN</td>\n",
       "      <td>NaN</td>\n",
       "      <td>NaN</td>\n",
       "      <td>NaN</td>\n",
       "      <td>NaN</td>\n",
       "      <td>http://twitter.com</td>\n",
       "      <td>False</td>\n",
       "      <td>{'media': [{'display_url': 'pic.twitter.com/t0...</td>\n",
       "      <td>{'media': [{'display_url': 'pic.twitter.com/t0...</td>\n",
       "    </tr>\n",
       "    <tr>\n",
       "      <th>2</th>\n",
       "      <td>780911564857761793</td>\n",
       "      <td>HillaryClinton</td>\n",
       "      <td>Couldn't be more proud of @HillaryClinton. Her...</td>\n",
       "      <td>True</td>\n",
       "      <td>POTUS</td>\n",
       "      <td>2016-09-27T23:26:40</td>\n",
       "      <td>NaN</td>\n",
       "      <td>NaN</td>\n",
       "      <td>NaN</td>\n",
       "      <td>False</td>\n",
       "      <td>...</td>\n",
       "      <td>NaN</td>\n",
       "      <td>NaN</td>\n",
       "      <td>NaN</td>\n",
       "      <td>NaN</td>\n",
       "      <td>NaN</td>\n",
       "      <td>NaN</td>\n",
       "      <td>https://about.twitter.com/products/tweetdeck</td>\n",
       "      <td>False</td>\n",
       "      <td>{'user_mentions': [{'id_str': '1536791610', 'n...</td>\n",
       "      <td>NaN</td>\n",
       "    </tr>\n",
       "    <tr>\n",
       "      <th>3</th>\n",
       "      <td>780907038650068994</td>\n",
       "      <td>HillaryClinton</td>\n",
       "      <td>If we stand together, there's nothing we can't...</td>\n",
       "      <td>False</td>\n",
       "      <td>NaN</td>\n",
       "      <td>2016-09-27T23:08:41</td>\n",
       "      <td>NaN</td>\n",
       "      <td>NaN</td>\n",
       "      <td>NaN</td>\n",
       "      <td>False</td>\n",
       "      <td>...</td>\n",
       "      <td>NaN</td>\n",
       "      <td>NaN</td>\n",
       "      <td>NaN</td>\n",
       "      <td>NaN</td>\n",
       "      <td>NaN</td>\n",
       "      <td>NaN</td>\n",
       "      <td>https://studio.twitter.com</td>\n",
       "      <td>False</td>\n",
       "      <td>{'media': [{'display_url': 'pic.twitter.com/Q3...</td>\n",
       "      <td>{'media': [{'display_url': 'pic.twitter.com/Q3...</td>\n",
       "    </tr>\n",
       "    <tr>\n",
       "      <th>4</th>\n",
       "      <td>780897419462602752</td>\n",
       "      <td>HillaryClinton</td>\n",
       "      <td>Both candidates were asked about how they'd co...</td>\n",
       "      <td>False</td>\n",
       "      <td>NaN</td>\n",
       "      <td>2016-09-27T22:30:27</td>\n",
       "      <td>NaN</td>\n",
       "      <td>NaN</td>\n",
       "      <td>NaN</td>\n",
       "      <td>False</td>\n",
       "      <td>...</td>\n",
       "      <td>NaN</td>\n",
       "      <td>NaN</td>\n",
       "      <td>NaN</td>\n",
       "      <td>NaN</td>\n",
       "      <td>NaN</td>\n",
       "      <td>NaN</td>\n",
       "      <td>https://about.twitter.com/products/tweetdeck</td>\n",
       "      <td>False</td>\n",
       "      <td>{'user_mentions': [], 'symbols': [], 'urls': [...</td>\n",
       "      <td>NaN</td>\n",
       "    </tr>\n",
       "  </tbody>\n",
       "</table>\n",
       "<p>5 rows × 28 columns</p>\n",
       "</div>"
      ],
      "text/plain": [
       "                   id          handle  \\\n",
       "0  780925634159796224  HillaryClinton   \n",
       "1  780916180899037184  HillaryClinton   \n",
       "2  780911564857761793  HillaryClinton   \n",
       "3  780907038650068994  HillaryClinton   \n",
       "4  780897419462602752  HillaryClinton   \n",
       "\n",
       "                                                text  is_retweet  \\\n",
       "0  The question in this election: Who can put the...       False   \n",
       "1  Last night, Donald Trump said not paying taxes...        True   \n",
       "2  Couldn't be more proud of @HillaryClinton. Her...        True   \n",
       "3  If we stand together, there's nothing we can't...       False   \n",
       "4  Both candidates were asked about how they'd co...       False   \n",
       "\n",
       "  original_author                 time in_reply_to_screen_name  \\\n",
       "0             NaN  2016-09-28T00:22:34                     NaN   \n",
       "1        timkaine  2016-09-27T23:45:00                     NaN   \n",
       "2           POTUS  2016-09-27T23:26:40                     NaN   \n",
       "3             NaN  2016-09-27T23:08:41                     NaN   \n",
       "4             NaN  2016-09-27T22:30:27                     NaN   \n",
       "\n",
       "   in_reply_to_status_id  in_reply_to_user_id  is_quote_status  ...  \\\n",
       "0                    NaN                  NaN            False  ...   \n",
       "1                    NaN                  NaN            False  ...   \n",
       "2                    NaN                  NaN            False  ...   \n",
       "3                    NaN                  NaN            False  ...   \n",
       "4                    NaN                  NaN            False  ...   \n",
       "\n",
       "  place_type  place_country_code  place_country  place_contained_within  \\\n",
       "0        NaN                 NaN            NaN                     NaN   \n",
       "1        NaN                 NaN            NaN                     NaN   \n",
       "2        NaN                 NaN            NaN                     NaN   \n",
       "3        NaN                 NaN            NaN                     NaN   \n",
       "4        NaN                 NaN            NaN                     NaN   \n",
       "\n",
       "   place_attributes place_bounding_box  \\\n",
       "0               NaN                NaN   \n",
       "1               NaN                NaN   \n",
       "2               NaN                NaN   \n",
       "3               NaN                NaN   \n",
       "4               NaN                NaN   \n",
       "\n",
       "                                     source_url truncated  \\\n",
       "0                    https://studio.twitter.com     False   \n",
       "1                            http://twitter.com     False   \n",
       "2  https://about.twitter.com/products/tweetdeck     False   \n",
       "3                    https://studio.twitter.com     False   \n",
       "4  https://about.twitter.com/products/tweetdeck     False   \n",
       "\n",
       "                                            entities  \\\n",
       "0  {'media': [{'display_url': 'pic.twitter.com/Xr...   \n",
       "1  {'media': [{'display_url': 'pic.twitter.com/t0...   \n",
       "2  {'user_mentions': [{'id_str': '1536791610', 'n...   \n",
       "3  {'media': [{'display_url': 'pic.twitter.com/Q3...   \n",
       "4  {'user_mentions': [], 'symbols': [], 'urls': [...   \n",
       "\n",
       "                                   extended_entities  \n",
       "0  {'media': [{'display_url': 'pic.twitter.com/Xr...  \n",
       "1  {'media': [{'display_url': 'pic.twitter.com/t0...  \n",
       "2                                                NaN  \n",
       "3  {'media': [{'display_url': 'pic.twitter.com/Q3...  \n",
       "4                                                NaN  \n",
       "\n",
       "[5 rows x 28 columns]"
      ]
     },
     "execution_count": 2,
     "metadata": {},
     "output_type": "execute_result"
    }
   ],
   "source": [
    "ClintonTrump = pd.read_csv(\"/Users/rena/Desktop/tweets.csv\")\n",
    "ClintonTrump.head()"
   ]
  },
  {
   "cell_type": "markdown",
   "metadata": {},
   "source": [
    "#### Renaming columns"
   ]
  },
  {
   "cell_type": "code",
   "execution_count": 3,
   "metadata": {},
   "outputs": [],
   "source": [
    "ClintonTrump.rename(columns={'is_retweet':'retweets', 'handle':'username','text':'tweet','entities':'source'},inplace=True)"
   ]
  },
  {
   "cell_type": "code",
   "execution_count": 4,
   "metadata": {
    "scrolled": true
   },
   "outputs": [
    {
     "data": {
      "text/plain": [
       "id                           int64\n",
       "username                    object\n",
       "tweet                       object\n",
       "retweets                      bool\n",
       "original_author             object\n",
       "time                        object\n",
       "in_reply_to_screen_name     object\n",
       "in_reply_to_status_id      float64\n",
       "in_reply_to_user_id        float64\n",
       "is_quote_status               bool\n",
       "lang                        object\n",
       "retweet_count                int64\n",
       "favorite_count               int64\n",
       "longitude                  float64\n",
       "latitude                   float64\n",
       "place_id                    object\n",
       "place_full_name             object\n",
       "place_name                  object\n",
       "place_type                  object\n",
       "place_country_code          object\n",
       "place_country               object\n",
       "place_contained_within      object\n",
       "place_attributes            object\n",
       "place_bounding_box          object\n",
       "source_url                  object\n",
       "truncated                     bool\n",
       "source                      object\n",
       "extended_entities           object\n",
       "dtype: object"
      ]
     },
     "execution_count": 4,
     "metadata": {},
     "output_type": "execute_result"
    }
   ],
   "source": [
    "ClintonTrump.dtypes"
   ]
  },
  {
   "cell_type": "code",
   "execution_count": 5,
   "metadata": {
    "scrolled": true
   },
   "outputs": [],
   "source": [
    "ClintonTrump['retweets'] = ClintonTrump['retweets'].astype(str)"
   ]
  },
  {
   "cell_type": "markdown",
   "metadata": {},
   "source": [
    "#### Recoding 'retweets' column"
   ]
  },
  {
   "cell_type": "code",
   "execution_count": 6,
   "metadata": {},
   "outputs": [],
   "source": [
    "def retweets (series):\n",
    "    if series == \"True\":\n",
    "        return 0\n",
    "    if series == \"False\":\n",
    "        return 1"
   ]
  },
  {
   "cell_type": "code",
   "execution_count": 7,
   "metadata": {},
   "outputs": [],
   "source": [
    "ClintonTrump['retweetsR'] = ClintonTrump['retweets'].apply(retweets)"
   ]
  },
  {
   "cell_type": "code",
   "execution_count": 8,
   "metadata": {
    "scrolled": true
   },
   "outputs": [
    {
     "data": {
      "text/html": [
       "<div>\n",
       "<style scoped>\n",
       "    .dataframe tbody tr th:only-of-type {\n",
       "        vertical-align: middle;\n",
       "    }\n",
       "\n",
       "    .dataframe tbody tr th {\n",
       "        vertical-align: top;\n",
       "    }\n",
       "\n",
       "    .dataframe thead th {\n",
       "        text-align: right;\n",
       "    }\n",
       "</style>\n",
       "<table border=\"1\" class=\"dataframe\">\n",
       "  <thead>\n",
       "    <tr style=\"text-align: right;\">\n",
       "      <th></th>\n",
       "      <th>id</th>\n",
       "      <th>username</th>\n",
       "      <th>tweet</th>\n",
       "      <th>retweets</th>\n",
       "      <th>original_author</th>\n",
       "      <th>time</th>\n",
       "      <th>in_reply_to_screen_name</th>\n",
       "      <th>in_reply_to_status_id</th>\n",
       "      <th>in_reply_to_user_id</th>\n",
       "      <th>is_quote_status</th>\n",
       "      <th>...</th>\n",
       "      <th>place_country_code</th>\n",
       "      <th>place_country</th>\n",
       "      <th>place_contained_within</th>\n",
       "      <th>place_attributes</th>\n",
       "      <th>place_bounding_box</th>\n",
       "      <th>source_url</th>\n",
       "      <th>truncated</th>\n",
       "      <th>source</th>\n",
       "      <th>extended_entities</th>\n",
       "      <th>retweetsR</th>\n",
       "    </tr>\n",
       "  </thead>\n",
       "  <tbody>\n",
       "    <tr>\n",
       "      <th>0</th>\n",
       "      <td>780925634159796224</td>\n",
       "      <td>HillaryClinton</td>\n",
       "      <td>The question in this election: Who can put the...</td>\n",
       "      <td>False</td>\n",
       "      <td>NaN</td>\n",
       "      <td>2016-09-28T00:22:34</td>\n",
       "      <td>NaN</td>\n",
       "      <td>NaN</td>\n",
       "      <td>NaN</td>\n",
       "      <td>False</td>\n",
       "      <td>...</td>\n",
       "      <td>NaN</td>\n",
       "      <td>NaN</td>\n",
       "      <td>NaN</td>\n",
       "      <td>NaN</td>\n",
       "      <td>NaN</td>\n",
       "      <td>https://studio.twitter.com</td>\n",
       "      <td>False</td>\n",
       "      <td>{'media': [{'display_url': 'pic.twitter.com/Xr...</td>\n",
       "      <td>{'media': [{'display_url': 'pic.twitter.com/Xr...</td>\n",
       "      <td>1</td>\n",
       "    </tr>\n",
       "    <tr>\n",
       "      <th>1</th>\n",
       "      <td>780916180899037184</td>\n",
       "      <td>HillaryClinton</td>\n",
       "      <td>Last night, Donald Trump said not paying taxes...</td>\n",
       "      <td>True</td>\n",
       "      <td>timkaine</td>\n",
       "      <td>2016-09-27T23:45:00</td>\n",
       "      <td>NaN</td>\n",
       "      <td>NaN</td>\n",
       "      <td>NaN</td>\n",
       "      <td>False</td>\n",
       "      <td>...</td>\n",
       "      <td>NaN</td>\n",
       "      <td>NaN</td>\n",
       "      <td>NaN</td>\n",
       "      <td>NaN</td>\n",
       "      <td>NaN</td>\n",
       "      <td>http://twitter.com</td>\n",
       "      <td>False</td>\n",
       "      <td>{'media': [{'display_url': 'pic.twitter.com/t0...</td>\n",
       "      <td>{'media': [{'display_url': 'pic.twitter.com/t0...</td>\n",
       "      <td>0</td>\n",
       "    </tr>\n",
       "    <tr>\n",
       "      <th>2</th>\n",
       "      <td>780911564857761793</td>\n",
       "      <td>HillaryClinton</td>\n",
       "      <td>Couldn't be more proud of @HillaryClinton. Her...</td>\n",
       "      <td>True</td>\n",
       "      <td>POTUS</td>\n",
       "      <td>2016-09-27T23:26:40</td>\n",
       "      <td>NaN</td>\n",
       "      <td>NaN</td>\n",
       "      <td>NaN</td>\n",
       "      <td>False</td>\n",
       "      <td>...</td>\n",
       "      <td>NaN</td>\n",
       "      <td>NaN</td>\n",
       "      <td>NaN</td>\n",
       "      <td>NaN</td>\n",
       "      <td>NaN</td>\n",
       "      <td>https://about.twitter.com/products/tweetdeck</td>\n",
       "      <td>False</td>\n",
       "      <td>{'user_mentions': [{'id_str': '1536791610', 'n...</td>\n",
       "      <td>NaN</td>\n",
       "      <td>0</td>\n",
       "    </tr>\n",
       "    <tr>\n",
       "      <th>3</th>\n",
       "      <td>780907038650068994</td>\n",
       "      <td>HillaryClinton</td>\n",
       "      <td>If we stand together, there's nothing we can't...</td>\n",
       "      <td>False</td>\n",
       "      <td>NaN</td>\n",
       "      <td>2016-09-27T23:08:41</td>\n",
       "      <td>NaN</td>\n",
       "      <td>NaN</td>\n",
       "      <td>NaN</td>\n",
       "      <td>False</td>\n",
       "      <td>...</td>\n",
       "      <td>NaN</td>\n",
       "      <td>NaN</td>\n",
       "      <td>NaN</td>\n",
       "      <td>NaN</td>\n",
       "      <td>NaN</td>\n",
       "      <td>https://studio.twitter.com</td>\n",
       "      <td>False</td>\n",
       "      <td>{'media': [{'display_url': 'pic.twitter.com/Q3...</td>\n",
       "      <td>{'media': [{'display_url': 'pic.twitter.com/Q3...</td>\n",
       "      <td>1</td>\n",
       "    </tr>\n",
       "    <tr>\n",
       "      <th>4</th>\n",
       "      <td>780897419462602752</td>\n",
       "      <td>HillaryClinton</td>\n",
       "      <td>Both candidates were asked about how they'd co...</td>\n",
       "      <td>False</td>\n",
       "      <td>NaN</td>\n",
       "      <td>2016-09-27T22:30:27</td>\n",
       "      <td>NaN</td>\n",
       "      <td>NaN</td>\n",
       "      <td>NaN</td>\n",
       "      <td>False</td>\n",
       "      <td>...</td>\n",
       "      <td>NaN</td>\n",
       "      <td>NaN</td>\n",
       "      <td>NaN</td>\n",
       "      <td>NaN</td>\n",
       "      <td>NaN</td>\n",
       "      <td>https://about.twitter.com/products/tweetdeck</td>\n",
       "      <td>False</td>\n",
       "      <td>{'user_mentions': [], 'symbols': [], 'urls': [...</td>\n",
       "      <td>NaN</td>\n",
       "      <td>1</td>\n",
       "    </tr>\n",
       "  </tbody>\n",
       "</table>\n",
       "<p>5 rows × 29 columns</p>\n",
       "</div>"
      ],
      "text/plain": [
       "                   id        username  \\\n",
       "0  780925634159796224  HillaryClinton   \n",
       "1  780916180899037184  HillaryClinton   \n",
       "2  780911564857761793  HillaryClinton   \n",
       "3  780907038650068994  HillaryClinton   \n",
       "4  780897419462602752  HillaryClinton   \n",
       "\n",
       "                                               tweet retweets original_author  \\\n",
       "0  The question in this election: Who can put the...    False             NaN   \n",
       "1  Last night, Donald Trump said not paying taxes...     True        timkaine   \n",
       "2  Couldn't be more proud of @HillaryClinton. Her...     True           POTUS   \n",
       "3  If we stand together, there's nothing we can't...    False             NaN   \n",
       "4  Both candidates were asked about how they'd co...    False             NaN   \n",
       "\n",
       "                  time in_reply_to_screen_name  in_reply_to_status_id  \\\n",
       "0  2016-09-28T00:22:34                     NaN                    NaN   \n",
       "1  2016-09-27T23:45:00                     NaN                    NaN   \n",
       "2  2016-09-27T23:26:40                     NaN                    NaN   \n",
       "3  2016-09-27T23:08:41                     NaN                    NaN   \n",
       "4  2016-09-27T22:30:27                     NaN                    NaN   \n",
       "\n",
       "   in_reply_to_user_id  is_quote_status  ... place_country_code  \\\n",
       "0                  NaN            False  ...                NaN   \n",
       "1                  NaN            False  ...                NaN   \n",
       "2                  NaN            False  ...                NaN   \n",
       "3                  NaN            False  ...                NaN   \n",
       "4                  NaN            False  ...                NaN   \n",
       "\n",
       "   place_country  place_contained_within  place_attributes  \\\n",
       "0            NaN                     NaN               NaN   \n",
       "1            NaN                     NaN               NaN   \n",
       "2            NaN                     NaN               NaN   \n",
       "3            NaN                     NaN               NaN   \n",
       "4            NaN                     NaN               NaN   \n",
       "\n",
       "   place_bounding_box                                    source_url truncated  \\\n",
       "0                 NaN                    https://studio.twitter.com     False   \n",
       "1                 NaN                            http://twitter.com     False   \n",
       "2                 NaN  https://about.twitter.com/products/tweetdeck     False   \n",
       "3                 NaN                    https://studio.twitter.com     False   \n",
       "4                 NaN  https://about.twitter.com/products/tweetdeck     False   \n",
       "\n",
       "                                              source  \\\n",
       "0  {'media': [{'display_url': 'pic.twitter.com/Xr...   \n",
       "1  {'media': [{'display_url': 'pic.twitter.com/t0...   \n",
       "2  {'user_mentions': [{'id_str': '1536791610', 'n...   \n",
       "3  {'media': [{'display_url': 'pic.twitter.com/Q3...   \n",
       "4  {'user_mentions': [], 'symbols': [], 'urls': [...   \n",
       "\n",
       "                                   extended_entities retweetsR  \n",
       "0  {'media': [{'display_url': 'pic.twitter.com/Xr...         1  \n",
       "1  {'media': [{'display_url': 'pic.twitter.com/t0...         0  \n",
       "2                                                NaN         0  \n",
       "3  {'media': [{'display_url': 'pic.twitter.com/Q3...         1  \n",
       "4                                                NaN         1  \n",
       "\n",
       "[5 rows x 29 columns]"
      ]
     },
     "execution_count": 8,
     "metadata": {},
     "output_type": "execute_result"
    }
   ],
   "source": [
    "ClintonTrump.head()"
   ]
  },
  {
   "cell_type": "markdown",
   "metadata": {},
   "source": [
    "#### Subsetting data to keep only the necessary columns"
   ]
  },
  {
   "cell_type": "code",
   "execution_count": 9,
   "metadata": {},
   "outputs": [],
   "source": [
    "ClintonTrump1 = ClintonTrump[['id','username','tweet','time','source','retweetsR','retweet_count']]"
   ]
  },
  {
   "cell_type": "code",
   "execution_count": 10,
   "metadata": {
    "scrolled": true
   },
   "outputs": [
    {
     "data": {
      "text/html": [
       "<div>\n",
       "<style scoped>\n",
       "    .dataframe tbody tr th:only-of-type {\n",
       "        vertical-align: middle;\n",
       "    }\n",
       "\n",
       "    .dataframe tbody tr th {\n",
       "        vertical-align: top;\n",
       "    }\n",
       "\n",
       "    .dataframe thead th {\n",
       "        text-align: right;\n",
       "    }\n",
       "</style>\n",
       "<table border=\"1\" class=\"dataframe\">\n",
       "  <thead>\n",
       "    <tr style=\"text-align: right;\">\n",
       "      <th></th>\n",
       "      <th>id</th>\n",
       "      <th>username</th>\n",
       "      <th>tweet</th>\n",
       "      <th>time</th>\n",
       "      <th>source</th>\n",
       "      <th>retweetsR</th>\n",
       "      <th>retweet_count</th>\n",
       "    </tr>\n",
       "  </thead>\n",
       "  <tbody>\n",
       "    <tr>\n",
       "      <th>0</th>\n",
       "      <td>780925634159796224</td>\n",
       "      <td>HillaryClinton</td>\n",
       "      <td>The question in this election: Who can put the...</td>\n",
       "      <td>2016-09-28T00:22:34</td>\n",
       "      <td>{'media': [{'display_url': 'pic.twitter.com/Xr...</td>\n",
       "      <td>1</td>\n",
       "      <td>218</td>\n",
       "    </tr>\n",
       "    <tr>\n",
       "      <th>1</th>\n",
       "      <td>780916180899037184</td>\n",
       "      <td>HillaryClinton</td>\n",
       "      <td>Last night, Donald Trump said not paying taxes...</td>\n",
       "      <td>2016-09-27T23:45:00</td>\n",
       "      <td>{'media': [{'display_url': 'pic.twitter.com/t0...</td>\n",
       "      <td>0</td>\n",
       "      <td>2445</td>\n",
       "    </tr>\n",
       "    <tr>\n",
       "      <th>2</th>\n",
       "      <td>780911564857761793</td>\n",
       "      <td>HillaryClinton</td>\n",
       "      <td>Couldn't be more proud of @HillaryClinton. Her...</td>\n",
       "      <td>2016-09-27T23:26:40</td>\n",
       "      <td>{'user_mentions': [{'id_str': '1536791610', 'n...</td>\n",
       "      <td>0</td>\n",
       "      <td>7834</td>\n",
       "    </tr>\n",
       "    <tr>\n",
       "      <th>3</th>\n",
       "      <td>780907038650068994</td>\n",
       "      <td>HillaryClinton</td>\n",
       "      <td>If we stand together, there's nothing we can't...</td>\n",
       "      <td>2016-09-27T23:08:41</td>\n",
       "      <td>{'media': [{'display_url': 'pic.twitter.com/Q3...</td>\n",
       "      <td>1</td>\n",
       "      <td>916</td>\n",
       "    </tr>\n",
       "    <tr>\n",
       "      <th>4</th>\n",
       "      <td>780897419462602752</td>\n",
       "      <td>HillaryClinton</td>\n",
       "      <td>Both candidates were asked about how they'd co...</td>\n",
       "      <td>2016-09-27T22:30:27</td>\n",
       "      <td>{'user_mentions': [], 'symbols': [], 'urls': [...</td>\n",
       "      <td>1</td>\n",
       "      <td>859</td>\n",
       "    </tr>\n",
       "  </tbody>\n",
       "</table>\n",
       "</div>"
      ],
      "text/plain": [
       "                   id        username  \\\n",
       "0  780925634159796224  HillaryClinton   \n",
       "1  780916180899037184  HillaryClinton   \n",
       "2  780911564857761793  HillaryClinton   \n",
       "3  780907038650068994  HillaryClinton   \n",
       "4  780897419462602752  HillaryClinton   \n",
       "\n",
       "                                               tweet                 time  \\\n",
       "0  The question in this election: Who can put the...  2016-09-28T00:22:34   \n",
       "1  Last night, Donald Trump said not paying taxes...  2016-09-27T23:45:00   \n",
       "2  Couldn't be more proud of @HillaryClinton. Her...  2016-09-27T23:26:40   \n",
       "3  If we stand together, there's nothing we can't...  2016-09-27T23:08:41   \n",
       "4  Both candidates were asked about how they'd co...  2016-09-27T22:30:27   \n",
       "\n",
       "                                              source  retweetsR  retweet_count  \n",
       "0  {'media': [{'display_url': 'pic.twitter.com/Xr...          1            218  \n",
       "1  {'media': [{'display_url': 'pic.twitter.com/t0...          0           2445  \n",
       "2  {'user_mentions': [{'id_str': '1536791610', 'n...          0           7834  \n",
       "3  {'media': [{'display_url': 'pic.twitter.com/Q3...          1            916  \n",
       "4  {'user_mentions': [], 'symbols': [], 'urls': [...          1            859  "
      ]
     },
     "execution_count": 10,
     "metadata": {},
     "output_type": "execute_result"
    }
   ],
   "source": [
    "ClintonTrump1.head()"
   ]
  },
  {
   "cell_type": "markdown",
   "metadata": {},
   "source": [
    "#### Splitting 'time' column"
   ]
  },
  {
   "cell_type": "code",
   "execution_count": 11,
   "metadata": {},
   "outputs": [],
   "source": [
    "ClintonTrump2 = ClintonTrump1['time'].str.split('-',expand=True).rename(columns = lambda x: \"date\"+str(x+1))"
   ]
  },
  {
   "cell_type": "code",
   "execution_count": 12,
   "metadata": {},
   "outputs": [
    {
     "data": {
      "text/html": [
       "<div>\n",
       "<style scoped>\n",
       "    .dataframe tbody tr th:only-of-type {\n",
       "        vertical-align: middle;\n",
       "    }\n",
       "\n",
       "    .dataframe tbody tr th {\n",
       "        vertical-align: top;\n",
       "    }\n",
       "\n",
       "    .dataframe thead th {\n",
       "        text-align: right;\n",
       "    }\n",
       "</style>\n",
       "<table border=\"1\" class=\"dataframe\">\n",
       "  <thead>\n",
       "    <tr style=\"text-align: right;\">\n",
       "      <th></th>\n",
       "      <th>date1</th>\n",
       "      <th>date2</th>\n",
       "      <th>date3</th>\n",
       "    </tr>\n",
       "  </thead>\n",
       "  <tbody>\n",
       "    <tr>\n",
       "      <th>0</th>\n",
       "      <td>2016</td>\n",
       "      <td>09</td>\n",
       "      <td>28T00:22:34</td>\n",
       "    </tr>\n",
       "    <tr>\n",
       "      <th>1</th>\n",
       "      <td>2016</td>\n",
       "      <td>09</td>\n",
       "      <td>27T23:45:00</td>\n",
       "    </tr>\n",
       "    <tr>\n",
       "      <th>2</th>\n",
       "      <td>2016</td>\n",
       "      <td>09</td>\n",
       "      <td>27T23:26:40</td>\n",
       "    </tr>\n",
       "    <tr>\n",
       "      <th>3</th>\n",
       "      <td>2016</td>\n",
       "      <td>09</td>\n",
       "      <td>27T23:08:41</td>\n",
       "    </tr>\n",
       "    <tr>\n",
       "      <th>4</th>\n",
       "      <td>2016</td>\n",
       "      <td>09</td>\n",
       "      <td>27T22:30:27</td>\n",
       "    </tr>\n",
       "  </tbody>\n",
       "</table>\n",
       "</div>"
      ],
      "text/plain": [
       "  date1 date2        date3\n",
       "0  2016    09  28T00:22:34\n",
       "1  2016    09  27T23:45:00\n",
       "2  2016    09  27T23:26:40\n",
       "3  2016    09  27T23:08:41\n",
       "4  2016    09  27T22:30:27"
      ]
     },
     "execution_count": 12,
     "metadata": {},
     "output_type": "execute_result"
    }
   ],
   "source": [
    "ClintonTrump2.head()"
   ]
  },
  {
   "cell_type": "code",
   "execution_count": 13,
   "metadata": {},
   "outputs": [
    {
     "data": {
      "text/html": [
       "<div>\n",
       "<style scoped>\n",
       "    .dataframe tbody tr th:only-of-type {\n",
       "        vertical-align: middle;\n",
       "    }\n",
       "\n",
       "    .dataframe tbody tr th {\n",
       "        vertical-align: top;\n",
       "    }\n",
       "\n",
       "    .dataframe thead th {\n",
       "        text-align: right;\n",
       "    }\n",
       "</style>\n",
       "<table border=\"1\" class=\"dataframe\">\n",
       "  <thead>\n",
       "    <tr style=\"text-align: right;\">\n",
       "      <th></th>\n",
       "      <th>time1</th>\n",
       "      <th>time2</th>\n",
       "    </tr>\n",
       "  </thead>\n",
       "  <tbody>\n",
       "    <tr>\n",
       "      <th>0</th>\n",
       "      <td>28</td>\n",
       "      <td>00:22:34</td>\n",
       "    </tr>\n",
       "    <tr>\n",
       "      <th>1</th>\n",
       "      <td>27</td>\n",
       "      <td>23:45:00</td>\n",
       "    </tr>\n",
       "    <tr>\n",
       "      <th>2</th>\n",
       "      <td>27</td>\n",
       "      <td>23:26:40</td>\n",
       "    </tr>\n",
       "    <tr>\n",
       "      <th>3</th>\n",
       "      <td>27</td>\n",
       "      <td>23:08:41</td>\n",
       "    </tr>\n",
       "    <tr>\n",
       "      <th>4</th>\n",
       "      <td>27</td>\n",
       "      <td>22:30:27</td>\n",
       "    </tr>\n",
       "  </tbody>\n",
       "</table>\n",
       "</div>"
      ],
      "text/plain": [
       "  time1     time2\n",
       "0    28  00:22:34\n",
       "1    27  23:45:00\n",
       "2    27  23:26:40\n",
       "3    27  23:08:41\n",
       "4    27  22:30:27"
      ]
     },
     "execution_count": 13,
     "metadata": {},
     "output_type": "execute_result"
    }
   ],
   "source": [
    "dateTime = ClintonTrump2['date3'].str.split('T',expand=True).rename(columns = lambda x: \"time\"+str(x+1))\n",
    "dateTime.head()"
   ]
  },
  {
   "cell_type": "code",
   "execution_count": 14,
   "metadata": {},
   "outputs": [],
   "source": [
    "ClintonTrump3 = ClintonTrump2[['date1','date2']]"
   ]
  },
  {
   "cell_type": "markdown",
   "metadata": {},
   "source": [
    "#### Adding time and date columns back to original dataframe"
   ]
  },
  {
   "cell_type": "code",
   "execution_count": 15,
   "metadata": {},
   "outputs": [],
   "source": [
    "ClintonTrump4 = pd.concat([ClintonTrump1,ClintonTrump3,dateTime],axis=1)"
   ]
  },
  {
   "cell_type": "code",
   "execution_count": 16,
   "metadata": {
    "scrolled": true
   },
   "outputs": [
    {
     "data": {
      "text/html": [
       "<div>\n",
       "<style scoped>\n",
       "    .dataframe tbody tr th:only-of-type {\n",
       "        vertical-align: middle;\n",
       "    }\n",
       "\n",
       "    .dataframe tbody tr th {\n",
       "        vertical-align: top;\n",
       "    }\n",
       "\n",
       "    .dataframe thead th {\n",
       "        text-align: right;\n",
       "    }\n",
       "</style>\n",
       "<table border=\"1\" class=\"dataframe\">\n",
       "  <thead>\n",
       "    <tr style=\"text-align: right;\">\n",
       "      <th></th>\n",
       "      <th>id</th>\n",
       "      <th>username</th>\n",
       "      <th>tweet</th>\n",
       "      <th>time</th>\n",
       "      <th>source</th>\n",
       "      <th>retweetsR</th>\n",
       "      <th>retweet_count</th>\n",
       "      <th>date1</th>\n",
       "      <th>date2</th>\n",
       "      <th>time1</th>\n",
       "      <th>time2</th>\n",
       "    </tr>\n",
       "  </thead>\n",
       "  <tbody>\n",
       "    <tr>\n",
       "      <th>0</th>\n",
       "      <td>780925634159796224</td>\n",
       "      <td>HillaryClinton</td>\n",
       "      <td>The question in this election: Who can put the...</td>\n",
       "      <td>2016-09-28T00:22:34</td>\n",
       "      <td>{'media': [{'display_url': 'pic.twitter.com/Xr...</td>\n",
       "      <td>1</td>\n",
       "      <td>218</td>\n",
       "      <td>2016</td>\n",
       "      <td>09</td>\n",
       "      <td>28</td>\n",
       "      <td>00:22:34</td>\n",
       "    </tr>\n",
       "    <tr>\n",
       "      <th>1</th>\n",
       "      <td>780916180899037184</td>\n",
       "      <td>HillaryClinton</td>\n",
       "      <td>Last night, Donald Trump said not paying taxes...</td>\n",
       "      <td>2016-09-27T23:45:00</td>\n",
       "      <td>{'media': [{'display_url': 'pic.twitter.com/t0...</td>\n",
       "      <td>0</td>\n",
       "      <td>2445</td>\n",
       "      <td>2016</td>\n",
       "      <td>09</td>\n",
       "      <td>27</td>\n",
       "      <td>23:45:00</td>\n",
       "    </tr>\n",
       "    <tr>\n",
       "      <th>2</th>\n",
       "      <td>780911564857761793</td>\n",
       "      <td>HillaryClinton</td>\n",
       "      <td>Couldn't be more proud of @HillaryClinton. Her...</td>\n",
       "      <td>2016-09-27T23:26:40</td>\n",
       "      <td>{'user_mentions': [{'id_str': '1536791610', 'n...</td>\n",
       "      <td>0</td>\n",
       "      <td>7834</td>\n",
       "      <td>2016</td>\n",
       "      <td>09</td>\n",
       "      <td>27</td>\n",
       "      <td>23:26:40</td>\n",
       "    </tr>\n",
       "    <tr>\n",
       "      <th>3</th>\n",
       "      <td>780907038650068994</td>\n",
       "      <td>HillaryClinton</td>\n",
       "      <td>If we stand together, there's nothing we can't...</td>\n",
       "      <td>2016-09-27T23:08:41</td>\n",
       "      <td>{'media': [{'display_url': 'pic.twitter.com/Q3...</td>\n",
       "      <td>1</td>\n",
       "      <td>916</td>\n",
       "      <td>2016</td>\n",
       "      <td>09</td>\n",
       "      <td>27</td>\n",
       "      <td>23:08:41</td>\n",
       "    </tr>\n",
       "    <tr>\n",
       "      <th>4</th>\n",
       "      <td>780897419462602752</td>\n",
       "      <td>HillaryClinton</td>\n",
       "      <td>Both candidates were asked about how they'd co...</td>\n",
       "      <td>2016-09-27T22:30:27</td>\n",
       "      <td>{'user_mentions': [], 'symbols': [], 'urls': [...</td>\n",
       "      <td>1</td>\n",
       "      <td>859</td>\n",
       "      <td>2016</td>\n",
       "      <td>09</td>\n",
       "      <td>27</td>\n",
       "      <td>22:30:27</td>\n",
       "    </tr>\n",
       "  </tbody>\n",
       "</table>\n",
       "</div>"
      ],
      "text/plain": [
       "                   id        username  \\\n",
       "0  780925634159796224  HillaryClinton   \n",
       "1  780916180899037184  HillaryClinton   \n",
       "2  780911564857761793  HillaryClinton   \n",
       "3  780907038650068994  HillaryClinton   \n",
       "4  780897419462602752  HillaryClinton   \n",
       "\n",
       "                                               tweet                 time  \\\n",
       "0  The question in this election: Who can put the...  2016-09-28T00:22:34   \n",
       "1  Last night, Donald Trump said not paying taxes...  2016-09-27T23:45:00   \n",
       "2  Couldn't be more proud of @HillaryClinton. Her...  2016-09-27T23:26:40   \n",
       "3  If we stand together, there's nothing we can't...  2016-09-27T23:08:41   \n",
       "4  Both candidates were asked about how they'd co...  2016-09-27T22:30:27   \n",
       "\n",
       "                                              source  retweetsR  \\\n",
       "0  {'media': [{'display_url': 'pic.twitter.com/Xr...          1   \n",
       "1  {'media': [{'display_url': 'pic.twitter.com/t0...          0   \n",
       "2  {'user_mentions': [{'id_str': '1536791610', 'n...          0   \n",
       "3  {'media': [{'display_url': 'pic.twitter.com/Q3...          1   \n",
       "4  {'user_mentions': [], 'symbols': [], 'urls': [...          1   \n",
       "\n",
       "   retweet_count date1 date2 time1     time2  \n",
       "0            218  2016    09    28  00:22:34  \n",
       "1           2445  2016    09    27  23:45:00  \n",
       "2           7834  2016    09    27  23:26:40  \n",
       "3            916  2016    09    27  23:08:41  \n",
       "4            859  2016    09    27  22:30:27  "
      ]
     },
     "execution_count": 16,
     "metadata": {},
     "output_type": "execute_result"
    }
   ],
   "source": [
    "ClintonTrump4.head()"
   ]
  },
  {
   "cell_type": "markdown",
   "metadata": {},
   "source": [
    "#### Renaming date and time columns"
   ]
  },
  {
   "cell_type": "code",
   "execution_count": 17,
   "metadata": {
    "scrolled": true
   },
   "outputs": [],
   "source": [
    "ClintonTrump5 = ClintonTrump4.rename(columns={'date1':'year','date2':'month','time1':'date','time2':'Time'})"
   ]
  },
  {
   "cell_type": "code",
   "execution_count": 18,
   "metadata": {},
   "outputs": [],
   "source": [
    "ClintonTrump5 = ClintonTrump5.drop(['time'], axis=1)"
   ]
  },
  {
   "cell_type": "markdown",
   "metadata": {},
   "source": [
    "#### Final Clinton vs. Trump "
   ]
  },
  {
   "cell_type": "code",
   "execution_count": 19,
   "metadata": {},
   "outputs": [
    {
     "data": {
      "text/html": [
       "<div>\n",
       "<style scoped>\n",
       "    .dataframe tbody tr th:only-of-type {\n",
       "        vertical-align: middle;\n",
       "    }\n",
       "\n",
       "    .dataframe tbody tr th {\n",
       "        vertical-align: top;\n",
       "    }\n",
       "\n",
       "    .dataframe thead th {\n",
       "        text-align: right;\n",
       "    }\n",
       "</style>\n",
       "<table border=\"1\" class=\"dataframe\">\n",
       "  <thead>\n",
       "    <tr style=\"text-align: right;\">\n",
       "      <th></th>\n",
       "      <th>id</th>\n",
       "      <th>username</th>\n",
       "      <th>tweet</th>\n",
       "      <th>source</th>\n",
       "      <th>retweetsR</th>\n",
       "      <th>retweet_count</th>\n",
       "      <th>year</th>\n",
       "      <th>month</th>\n",
       "      <th>date</th>\n",
       "      <th>Time</th>\n",
       "    </tr>\n",
       "  </thead>\n",
       "  <tbody>\n",
       "    <tr>\n",
       "      <th>0</th>\n",
       "      <td>780925634159796224</td>\n",
       "      <td>HillaryClinton</td>\n",
       "      <td>The question in this election: Who can put the...</td>\n",
       "      <td>{'media': [{'display_url': 'pic.twitter.com/Xr...</td>\n",
       "      <td>1</td>\n",
       "      <td>218</td>\n",
       "      <td>2016</td>\n",
       "      <td>09</td>\n",
       "      <td>28</td>\n",
       "      <td>00:22:34</td>\n",
       "    </tr>\n",
       "    <tr>\n",
       "      <th>1</th>\n",
       "      <td>780916180899037184</td>\n",
       "      <td>HillaryClinton</td>\n",
       "      <td>Last night, Donald Trump said not paying taxes...</td>\n",
       "      <td>{'media': [{'display_url': 'pic.twitter.com/t0...</td>\n",
       "      <td>0</td>\n",
       "      <td>2445</td>\n",
       "      <td>2016</td>\n",
       "      <td>09</td>\n",
       "      <td>27</td>\n",
       "      <td>23:45:00</td>\n",
       "    </tr>\n",
       "    <tr>\n",
       "      <th>2</th>\n",
       "      <td>780911564857761793</td>\n",
       "      <td>HillaryClinton</td>\n",
       "      <td>Couldn't be more proud of @HillaryClinton. Her...</td>\n",
       "      <td>{'user_mentions': [{'id_str': '1536791610', 'n...</td>\n",
       "      <td>0</td>\n",
       "      <td>7834</td>\n",
       "      <td>2016</td>\n",
       "      <td>09</td>\n",
       "      <td>27</td>\n",
       "      <td>23:26:40</td>\n",
       "    </tr>\n",
       "    <tr>\n",
       "      <th>3</th>\n",
       "      <td>780907038650068994</td>\n",
       "      <td>HillaryClinton</td>\n",
       "      <td>If we stand together, there's nothing we can't...</td>\n",
       "      <td>{'media': [{'display_url': 'pic.twitter.com/Q3...</td>\n",
       "      <td>1</td>\n",
       "      <td>916</td>\n",
       "      <td>2016</td>\n",
       "      <td>09</td>\n",
       "      <td>27</td>\n",
       "      <td>23:08:41</td>\n",
       "    </tr>\n",
       "    <tr>\n",
       "      <th>4</th>\n",
       "      <td>780897419462602752</td>\n",
       "      <td>HillaryClinton</td>\n",
       "      <td>Both candidates were asked about how they'd co...</td>\n",
       "      <td>{'user_mentions': [], 'symbols': [], 'urls': [...</td>\n",
       "      <td>1</td>\n",
       "      <td>859</td>\n",
       "      <td>2016</td>\n",
       "      <td>09</td>\n",
       "      <td>27</td>\n",
       "      <td>22:30:27</td>\n",
       "    </tr>\n",
       "  </tbody>\n",
       "</table>\n",
       "</div>"
      ],
      "text/plain": [
       "                   id        username  \\\n",
       "0  780925634159796224  HillaryClinton   \n",
       "1  780916180899037184  HillaryClinton   \n",
       "2  780911564857761793  HillaryClinton   \n",
       "3  780907038650068994  HillaryClinton   \n",
       "4  780897419462602752  HillaryClinton   \n",
       "\n",
       "                                               tweet  \\\n",
       "0  The question in this election: Who can put the...   \n",
       "1  Last night, Donald Trump said not paying taxes...   \n",
       "2  Couldn't be more proud of @HillaryClinton. Her...   \n",
       "3  If we stand together, there's nothing we can't...   \n",
       "4  Both candidates were asked about how they'd co...   \n",
       "\n",
       "                                              source  retweetsR  \\\n",
       "0  {'media': [{'display_url': 'pic.twitter.com/Xr...          1   \n",
       "1  {'media': [{'display_url': 'pic.twitter.com/t0...          0   \n",
       "2  {'user_mentions': [{'id_str': '1536791610', 'n...          0   \n",
       "3  {'media': [{'display_url': 'pic.twitter.com/Q3...          1   \n",
       "4  {'user_mentions': [], 'symbols': [], 'urls': [...          1   \n",
       "\n",
       "   retweet_count  year month date      Time  \n",
       "0            218  2016    09   28  00:22:34  \n",
       "1           2445  2016    09   27  23:45:00  \n",
       "2           7834  2016    09   27  23:26:40  \n",
       "3            916  2016    09   27  23:08:41  \n",
       "4            859  2016    09   27  22:30:27  "
      ]
     },
     "execution_count": 19,
     "metadata": {},
     "output_type": "execute_result"
    }
   ],
   "source": [
    "ClintonTrump5.head()"
   ]
  },
  {
   "cell_type": "markdown",
   "metadata": {},
   "source": [
    "### Biden"
   ]
  },
  {
   "cell_type": "code",
   "execution_count": 20,
   "metadata": {
    "scrolled": true
   },
   "outputs": [
    {
     "data": {
      "text/html": [
       "<div>\n",
       "<style scoped>\n",
       "    .dataframe tbody tr th:only-of-type {\n",
       "        vertical-align: middle;\n",
       "    }\n",
       "\n",
       "    .dataframe tbody tr th {\n",
       "        vertical-align: top;\n",
       "    }\n",
       "\n",
       "    .dataframe thead th {\n",
       "        text-align: right;\n",
       "    }\n",
       "</style>\n",
       "<table border=\"1\" class=\"dataframe\">\n",
       "  <thead>\n",
       "    <tr style=\"text-align: right;\">\n",
       "      <th></th>\n",
       "      <th>id</th>\n",
       "      <th>username</th>\n",
       "      <th>timestamp</th>\n",
       "      <th>link</th>\n",
       "      <th>tweet</th>\n",
       "      <th>retweets</th>\n",
       "      <th>likes</th>\n",
       "    </tr>\n",
       "  </thead>\n",
       "  <tbody>\n",
       "    <tr>\n",
       "      <th>0</th>\n",
       "      <td>1300583900503183360</td>\n",
       "      <td>JoeBiden</td>\n",
       "      <td>2020-08-31 23:59</td>\n",
       "      <td>https://twitter.com/JoeBiden/status/1300583900...</td>\n",
       "      <td>Donald Trump looks at this violence and sees a...</td>\n",
       "      <td>6551</td>\n",
       "      <td>23058</td>\n",
       "    </tr>\n",
       "    <tr>\n",
       "      <th>1</th>\n",
       "      <td>1300576603295158272</td>\n",
       "      <td>JoeBiden</td>\n",
       "      <td>2020-08-31 23:30</td>\n",
       "      <td>https://twitter.com/JoeBiden/status/1300576603...</td>\n",
       "      <td>Folks, we're just hours away from our first en...</td>\n",
       "      <td>1863</td>\n",
       "      <td>6348</td>\n",
       "    </tr>\n",
       "    <tr>\n",
       "      <th>2</th>\n",
       "      <td>1300569556382085120</td>\n",
       "      <td>JoeBiden</td>\n",
       "      <td>2020-08-31 23:02</td>\n",
       "      <td>https://twitter.com/JoeBiden/status/1300569556...</td>\n",
       "      <td>The truth is Donald Trump can't stop the viole...</td>\n",
       "      <td>14189</td>\n",
       "      <td>56220</td>\n",
       "    </tr>\n",
       "    <tr>\n",
       "      <th>3</th>\n",
       "      <td>1300559741220016128</td>\n",
       "      <td>JoeBiden</td>\n",
       "      <td>2020-08-31 22:23</td>\n",
       "      <td>https://twitter.com/JoeBiden/status/1300559741...</td>\n",
       "      <td>Anyone who met Amari will tell you that he was...</td>\n",
       "      <td>2158</td>\n",
       "      <td>11484</td>\n",
       "    </tr>\n",
       "    <tr>\n",
       "      <th>4</th>\n",
       "      <td>1300500098233839616</td>\n",
       "      <td>JoeBiden</td>\n",
       "      <td>2020-08-31 18:26</td>\n",
       "      <td>https://twitter.com/JoeBiden/status/1300500098...</td>\n",
       "      <td>More cops have died from COVID this year than ...</td>\n",
       "      <td>38212</td>\n",
       "      <td>164059</td>\n",
       "    </tr>\n",
       "  </tbody>\n",
       "</table>\n",
       "</div>"
      ],
      "text/plain": [
       "                    id  username         timestamp  \\\n",
       "0  1300583900503183360  JoeBiden  2020-08-31 23:59   \n",
       "1  1300576603295158272  JoeBiden  2020-08-31 23:30   \n",
       "2  1300569556382085120  JoeBiden  2020-08-31 23:02   \n",
       "3  1300559741220016128  JoeBiden  2020-08-31 22:23   \n",
       "4  1300500098233839616  JoeBiden  2020-08-31 18:26   \n",
       "\n",
       "                                                link  \\\n",
       "0  https://twitter.com/JoeBiden/status/1300583900...   \n",
       "1  https://twitter.com/JoeBiden/status/1300576603...   \n",
       "2  https://twitter.com/JoeBiden/status/1300569556...   \n",
       "3  https://twitter.com/JoeBiden/status/1300559741...   \n",
       "4  https://twitter.com/JoeBiden/status/1300500098...   \n",
       "\n",
       "                                               tweet  retweets   likes  \n",
       "0  Donald Trump looks at this violence and sees a...      6551   23058  \n",
       "1  Folks, we're just hours away from our first en...      1863    6348  \n",
       "2  The truth is Donald Trump can't stop the viole...     14189   56220  \n",
       "3  Anyone who met Amari will tell you that he was...      2158   11484  \n",
       "4  More cops have died from COVID this year than ...     38212  164059  "
      ]
     },
     "execution_count": 20,
     "metadata": {},
     "output_type": "execute_result"
    }
   ],
   "source": [
    "Biden = pd.read_csv(\"/Users/rena/Desktop/JoeBidenTweets.csv\")\n",
    "Biden.head()"
   ]
  },
  {
   "cell_type": "markdown",
   "metadata": {},
   "source": [
    "#### Splitting 'timestamp' column"
   ]
  },
  {
   "cell_type": "code",
   "execution_count": 21,
   "metadata": {},
   "outputs": [],
   "source": [
    "Biden1 = Biden['timestamp'].str.split('-',expand=True).rename(columns = lambda x: \"date\"+str(x+1))"
   ]
  },
  {
   "cell_type": "code",
   "execution_count": 22,
   "metadata": {},
   "outputs": [
    {
     "data": {
      "text/html": [
       "<div>\n",
       "<style scoped>\n",
       "    .dataframe tbody tr th:only-of-type {\n",
       "        vertical-align: middle;\n",
       "    }\n",
       "\n",
       "    .dataframe tbody tr th {\n",
       "        vertical-align: top;\n",
       "    }\n",
       "\n",
       "    .dataframe thead th {\n",
       "        text-align: right;\n",
       "    }\n",
       "</style>\n",
       "<table border=\"1\" class=\"dataframe\">\n",
       "  <thead>\n",
       "    <tr style=\"text-align: right;\">\n",
       "      <th></th>\n",
       "      <th>date1</th>\n",
       "      <th>date2</th>\n",
       "      <th>date3</th>\n",
       "    </tr>\n",
       "  </thead>\n",
       "  <tbody>\n",
       "    <tr>\n",
       "      <th>0</th>\n",
       "      <td>2020</td>\n",
       "      <td>08</td>\n",
       "      <td>31 23:59</td>\n",
       "    </tr>\n",
       "    <tr>\n",
       "      <th>1</th>\n",
       "      <td>2020</td>\n",
       "      <td>08</td>\n",
       "      <td>31 23:30</td>\n",
       "    </tr>\n",
       "    <tr>\n",
       "      <th>2</th>\n",
       "      <td>2020</td>\n",
       "      <td>08</td>\n",
       "      <td>31 23:02</td>\n",
       "    </tr>\n",
       "    <tr>\n",
       "      <th>3</th>\n",
       "      <td>2020</td>\n",
       "      <td>08</td>\n",
       "      <td>31 22:23</td>\n",
       "    </tr>\n",
       "    <tr>\n",
       "      <th>4</th>\n",
       "      <td>2020</td>\n",
       "      <td>08</td>\n",
       "      <td>31 18:26</td>\n",
       "    </tr>\n",
       "  </tbody>\n",
       "</table>\n",
       "</div>"
      ],
      "text/plain": [
       "  date1 date2     date3\n",
       "0  2020    08  31 23:59\n",
       "1  2020    08  31 23:30\n",
       "2  2020    08  31 23:02\n",
       "3  2020    08  31 22:23\n",
       "4  2020    08  31 18:26"
      ]
     },
     "execution_count": 22,
     "metadata": {},
     "output_type": "execute_result"
    }
   ],
   "source": [
    "Biden1.head()"
   ]
  },
  {
   "cell_type": "code",
   "execution_count": 23,
   "metadata": {},
   "outputs": [],
   "source": [
    "Biden2 = Biden1['date3'].str.split(' ',expand=True).rename(columns = lambda x: \"time\"+str(x+1))"
   ]
  },
  {
   "cell_type": "code",
   "execution_count": 24,
   "metadata": {},
   "outputs": [
    {
     "data": {
      "text/html": [
       "<div>\n",
       "<style scoped>\n",
       "    .dataframe tbody tr th:only-of-type {\n",
       "        vertical-align: middle;\n",
       "    }\n",
       "\n",
       "    .dataframe tbody tr th {\n",
       "        vertical-align: top;\n",
       "    }\n",
       "\n",
       "    .dataframe thead th {\n",
       "        text-align: right;\n",
       "    }\n",
       "</style>\n",
       "<table border=\"1\" class=\"dataframe\">\n",
       "  <thead>\n",
       "    <tr style=\"text-align: right;\">\n",
       "      <th></th>\n",
       "      <th>time1</th>\n",
       "      <th>time2</th>\n",
       "    </tr>\n",
       "  </thead>\n",
       "  <tbody>\n",
       "    <tr>\n",
       "      <th>0</th>\n",
       "      <td>31</td>\n",
       "      <td>23:59</td>\n",
       "    </tr>\n",
       "    <tr>\n",
       "      <th>1</th>\n",
       "      <td>31</td>\n",
       "      <td>23:30</td>\n",
       "    </tr>\n",
       "    <tr>\n",
       "      <th>2</th>\n",
       "      <td>31</td>\n",
       "      <td>23:02</td>\n",
       "    </tr>\n",
       "    <tr>\n",
       "      <th>3</th>\n",
       "      <td>31</td>\n",
       "      <td>22:23</td>\n",
       "    </tr>\n",
       "    <tr>\n",
       "      <th>4</th>\n",
       "      <td>31</td>\n",
       "      <td>18:26</td>\n",
       "    </tr>\n",
       "  </tbody>\n",
       "</table>\n",
       "</div>"
      ],
      "text/plain": [
       "  time1  time2\n",
       "0    31  23:59\n",
       "1    31  23:30\n",
       "2    31  23:02\n",
       "3    31  22:23\n",
       "4    31  18:26"
      ]
     },
     "execution_count": 24,
     "metadata": {},
     "output_type": "execute_result"
    }
   ],
   "source": [
    "Biden2.head()"
   ]
  },
  {
   "cell_type": "code",
   "execution_count": 25,
   "metadata": {},
   "outputs": [],
   "source": [
    "Biden3 = Biden1[['date1','date2']]"
   ]
  },
  {
   "cell_type": "markdown",
   "metadata": {},
   "source": [
    "#### Adding time and date columns back to original dataframe"
   ]
  },
  {
   "cell_type": "code",
   "execution_count": 26,
   "metadata": {},
   "outputs": [],
   "source": [
    "Biden4 = pd.concat([Biden,Biden3,Biden2],axis=1)"
   ]
  },
  {
   "cell_type": "code",
   "execution_count": 27,
   "metadata": {
    "scrolled": true
   },
   "outputs": [
    {
     "data": {
      "text/html": [
       "<div>\n",
       "<style scoped>\n",
       "    .dataframe tbody tr th:only-of-type {\n",
       "        vertical-align: middle;\n",
       "    }\n",
       "\n",
       "    .dataframe tbody tr th {\n",
       "        vertical-align: top;\n",
       "    }\n",
       "\n",
       "    .dataframe thead th {\n",
       "        text-align: right;\n",
       "    }\n",
       "</style>\n",
       "<table border=\"1\" class=\"dataframe\">\n",
       "  <thead>\n",
       "    <tr style=\"text-align: right;\">\n",
       "      <th></th>\n",
       "      <th>id</th>\n",
       "      <th>username</th>\n",
       "      <th>timestamp</th>\n",
       "      <th>link</th>\n",
       "      <th>tweet</th>\n",
       "      <th>retweets</th>\n",
       "      <th>likes</th>\n",
       "      <th>date1</th>\n",
       "      <th>date2</th>\n",
       "      <th>time1</th>\n",
       "      <th>time2</th>\n",
       "    </tr>\n",
       "  </thead>\n",
       "  <tbody>\n",
       "    <tr>\n",
       "      <th>0</th>\n",
       "      <td>1300583900503183360</td>\n",
       "      <td>JoeBiden</td>\n",
       "      <td>2020-08-31 23:59</td>\n",
       "      <td>https://twitter.com/JoeBiden/status/1300583900...</td>\n",
       "      <td>Donald Trump looks at this violence and sees a...</td>\n",
       "      <td>6551</td>\n",
       "      <td>23058</td>\n",
       "      <td>2020</td>\n",
       "      <td>08</td>\n",
       "      <td>31</td>\n",
       "      <td>23:59</td>\n",
       "    </tr>\n",
       "    <tr>\n",
       "      <th>1</th>\n",
       "      <td>1300576603295158272</td>\n",
       "      <td>JoeBiden</td>\n",
       "      <td>2020-08-31 23:30</td>\n",
       "      <td>https://twitter.com/JoeBiden/status/1300576603...</td>\n",
       "      <td>Folks, we're just hours away from our first en...</td>\n",
       "      <td>1863</td>\n",
       "      <td>6348</td>\n",
       "      <td>2020</td>\n",
       "      <td>08</td>\n",
       "      <td>31</td>\n",
       "      <td>23:30</td>\n",
       "    </tr>\n",
       "    <tr>\n",
       "      <th>2</th>\n",
       "      <td>1300569556382085120</td>\n",
       "      <td>JoeBiden</td>\n",
       "      <td>2020-08-31 23:02</td>\n",
       "      <td>https://twitter.com/JoeBiden/status/1300569556...</td>\n",
       "      <td>The truth is Donald Trump can't stop the viole...</td>\n",
       "      <td>14189</td>\n",
       "      <td>56220</td>\n",
       "      <td>2020</td>\n",
       "      <td>08</td>\n",
       "      <td>31</td>\n",
       "      <td>23:02</td>\n",
       "    </tr>\n",
       "    <tr>\n",
       "      <th>3</th>\n",
       "      <td>1300559741220016128</td>\n",
       "      <td>JoeBiden</td>\n",
       "      <td>2020-08-31 22:23</td>\n",
       "      <td>https://twitter.com/JoeBiden/status/1300559741...</td>\n",
       "      <td>Anyone who met Amari will tell you that he was...</td>\n",
       "      <td>2158</td>\n",
       "      <td>11484</td>\n",
       "      <td>2020</td>\n",
       "      <td>08</td>\n",
       "      <td>31</td>\n",
       "      <td>22:23</td>\n",
       "    </tr>\n",
       "    <tr>\n",
       "      <th>4</th>\n",
       "      <td>1300500098233839616</td>\n",
       "      <td>JoeBiden</td>\n",
       "      <td>2020-08-31 18:26</td>\n",
       "      <td>https://twitter.com/JoeBiden/status/1300500098...</td>\n",
       "      <td>More cops have died from COVID this year than ...</td>\n",
       "      <td>38212</td>\n",
       "      <td>164059</td>\n",
       "      <td>2020</td>\n",
       "      <td>08</td>\n",
       "      <td>31</td>\n",
       "      <td>18:26</td>\n",
       "    </tr>\n",
       "  </tbody>\n",
       "</table>\n",
       "</div>"
      ],
      "text/plain": [
       "                    id  username         timestamp  \\\n",
       "0  1300583900503183360  JoeBiden  2020-08-31 23:59   \n",
       "1  1300576603295158272  JoeBiden  2020-08-31 23:30   \n",
       "2  1300569556382085120  JoeBiden  2020-08-31 23:02   \n",
       "3  1300559741220016128  JoeBiden  2020-08-31 22:23   \n",
       "4  1300500098233839616  JoeBiden  2020-08-31 18:26   \n",
       "\n",
       "                                                link  \\\n",
       "0  https://twitter.com/JoeBiden/status/1300583900...   \n",
       "1  https://twitter.com/JoeBiden/status/1300576603...   \n",
       "2  https://twitter.com/JoeBiden/status/1300569556...   \n",
       "3  https://twitter.com/JoeBiden/status/1300559741...   \n",
       "4  https://twitter.com/JoeBiden/status/1300500098...   \n",
       "\n",
       "                                               tweet  retweets   likes date1  \\\n",
       "0  Donald Trump looks at this violence and sees a...      6551   23058  2020   \n",
       "1  Folks, we're just hours away from our first en...      1863    6348  2020   \n",
       "2  The truth is Donald Trump can't stop the viole...     14189   56220  2020   \n",
       "3  Anyone who met Amari will tell you that he was...      2158   11484  2020   \n",
       "4  More cops have died from COVID this year than ...     38212  164059  2020   \n",
       "\n",
       "  date2 time1  time2  \n",
       "0    08    31  23:59  \n",
       "1    08    31  23:30  \n",
       "2    08    31  23:02  \n",
       "3    08    31  22:23  \n",
       "4    08    31  18:26  "
      ]
     },
     "execution_count": 27,
     "metadata": {},
     "output_type": "execute_result"
    }
   ],
   "source": [
    "Biden4.head()"
   ]
  },
  {
   "cell_type": "markdown",
   "metadata": {},
   "source": [
    "#### Renaming columns and dropping unneeded columns"
   ]
  },
  {
   "cell_type": "code",
   "execution_count": 28,
   "metadata": {},
   "outputs": [],
   "source": [
    "Biden5 = Biden4.rename(columns={'date1':'year','date2':'month','time1':'date','time2':'Time','link':'source'})"
   ]
  },
  {
   "cell_type": "code",
   "execution_count": 29,
   "metadata": {},
   "outputs": [],
   "source": [
    "Biden5 = Biden5.drop(columns=['timestamp','likes'])"
   ]
  },
  {
   "cell_type": "markdown",
   "metadata": {},
   "source": [
    "#### Duplicating 'retweets' column data into new column"
   ]
  },
  {
   "cell_type": "code",
   "execution_count": 30,
   "metadata": {},
   "outputs": [],
   "source": [
    "Biden5['retweet_count'] = Biden5['retweets']"
   ]
  },
  {
   "cell_type": "markdown",
   "metadata": {},
   "source": [
    "#### Recoding 'retweets' column"
   ]
  },
  {
   "cell_type": "code",
   "execution_count": 31,
   "metadata": {},
   "outputs": [],
   "source": [
    "def Retweets (series):\n",
    "    if series > 0:\n",
    "        return 0\n",
    "Biden5['retweetsR'] = Biden5['retweets'].apply(Retweets)"
   ]
  },
  {
   "cell_type": "code",
   "execution_count": 32,
   "metadata": {},
   "outputs": [],
   "source": [
    "Biden5 = Biden5.drop(columns=['retweets'])"
   ]
  },
  {
   "cell_type": "markdown",
   "metadata": {},
   "source": [
    "#### Final version of Biden dataset"
   ]
  },
  {
   "cell_type": "code",
   "execution_count": 33,
   "metadata": {},
   "outputs": [
    {
     "data": {
      "text/html": [
       "<div>\n",
       "<style scoped>\n",
       "    .dataframe tbody tr th:only-of-type {\n",
       "        vertical-align: middle;\n",
       "    }\n",
       "\n",
       "    .dataframe tbody tr th {\n",
       "        vertical-align: top;\n",
       "    }\n",
       "\n",
       "    .dataframe thead th {\n",
       "        text-align: right;\n",
       "    }\n",
       "</style>\n",
       "<table border=\"1\" class=\"dataframe\">\n",
       "  <thead>\n",
       "    <tr style=\"text-align: right;\">\n",
       "      <th></th>\n",
       "      <th>id</th>\n",
       "      <th>username</th>\n",
       "      <th>source</th>\n",
       "      <th>tweet</th>\n",
       "      <th>year</th>\n",
       "      <th>month</th>\n",
       "      <th>date</th>\n",
       "      <th>Time</th>\n",
       "      <th>retweet_count</th>\n",
       "      <th>retweetsR</th>\n",
       "    </tr>\n",
       "  </thead>\n",
       "  <tbody>\n",
       "    <tr>\n",
       "      <th>0</th>\n",
       "      <td>1300583900503183360</td>\n",
       "      <td>JoeBiden</td>\n",
       "      <td>https://twitter.com/JoeBiden/status/1300583900...</td>\n",
       "      <td>Donald Trump looks at this violence and sees a...</td>\n",
       "      <td>2020</td>\n",
       "      <td>08</td>\n",
       "      <td>31</td>\n",
       "      <td>23:59</td>\n",
       "      <td>6551</td>\n",
       "      <td>0</td>\n",
       "    </tr>\n",
       "    <tr>\n",
       "      <th>1</th>\n",
       "      <td>1300576603295158272</td>\n",
       "      <td>JoeBiden</td>\n",
       "      <td>https://twitter.com/JoeBiden/status/1300576603...</td>\n",
       "      <td>Folks, we're just hours away from our first en...</td>\n",
       "      <td>2020</td>\n",
       "      <td>08</td>\n",
       "      <td>31</td>\n",
       "      <td>23:30</td>\n",
       "      <td>1863</td>\n",
       "      <td>0</td>\n",
       "    </tr>\n",
       "    <tr>\n",
       "      <th>2</th>\n",
       "      <td>1300569556382085120</td>\n",
       "      <td>JoeBiden</td>\n",
       "      <td>https://twitter.com/JoeBiden/status/1300569556...</td>\n",
       "      <td>The truth is Donald Trump can't stop the viole...</td>\n",
       "      <td>2020</td>\n",
       "      <td>08</td>\n",
       "      <td>31</td>\n",
       "      <td>23:02</td>\n",
       "      <td>14189</td>\n",
       "      <td>0</td>\n",
       "    </tr>\n",
       "    <tr>\n",
       "      <th>3</th>\n",
       "      <td>1300559741220016128</td>\n",
       "      <td>JoeBiden</td>\n",
       "      <td>https://twitter.com/JoeBiden/status/1300559741...</td>\n",
       "      <td>Anyone who met Amari will tell you that he was...</td>\n",
       "      <td>2020</td>\n",
       "      <td>08</td>\n",
       "      <td>31</td>\n",
       "      <td>22:23</td>\n",
       "      <td>2158</td>\n",
       "      <td>0</td>\n",
       "    </tr>\n",
       "    <tr>\n",
       "      <th>4</th>\n",
       "      <td>1300500098233839616</td>\n",
       "      <td>JoeBiden</td>\n",
       "      <td>https://twitter.com/JoeBiden/status/1300500098...</td>\n",
       "      <td>More cops have died from COVID this year than ...</td>\n",
       "      <td>2020</td>\n",
       "      <td>08</td>\n",
       "      <td>31</td>\n",
       "      <td>18:26</td>\n",
       "      <td>38212</td>\n",
       "      <td>0</td>\n",
       "    </tr>\n",
       "  </tbody>\n",
       "</table>\n",
       "</div>"
      ],
      "text/plain": [
       "                    id  username  \\\n",
       "0  1300583900503183360  JoeBiden   \n",
       "1  1300576603295158272  JoeBiden   \n",
       "2  1300569556382085120  JoeBiden   \n",
       "3  1300559741220016128  JoeBiden   \n",
       "4  1300500098233839616  JoeBiden   \n",
       "\n",
       "                                              source  \\\n",
       "0  https://twitter.com/JoeBiden/status/1300583900...   \n",
       "1  https://twitter.com/JoeBiden/status/1300576603...   \n",
       "2  https://twitter.com/JoeBiden/status/1300569556...   \n",
       "3  https://twitter.com/JoeBiden/status/1300559741...   \n",
       "4  https://twitter.com/JoeBiden/status/1300500098...   \n",
       "\n",
       "                                               tweet  year month date   Time  \\\n",
       "0  Donald Trump looks at this violence and sees a...  2020    08   31  23:59   \n",
       "1  Folks, we're just hours away from our first en...  2020    08   31  23:30   \n",
       "2  The truth is Donald Trump can't stop the viole...  2020    08   31  23:02   \n",
       "3  Anyone who met Amari will tell you that he was...  2020    08   31  22:23   \n",
       "4  More cops have died from COVID this year than ...  2020    08   31  18:26   \n",
       "\n",
       "   retweet_count  retweetsR  \n",
       "0           6551          0  \n",
       "1           1863          0  \n",
       "2          14189          0  \n",
       "3           2158          0  \n",
       "4          38212          0  "
      ]
     },
     "execution_count": 33,
     "metadata": {},
     "output_type": "execute_result"
    }
   ],
   "source": [
    "Biden5.head()"
   ]
  },
  {
   "cell_type": "markdown",
   "metadata": {},
   "source": [
    "### Appending the dataframes"
   ]
  },
  {
   "cell_type": "code",
   "execution_count": 34,
   "metadata": {},
   "outputs": [],
   "source": [
    "AllTweets = pd.concat([Biden5, ClintonTrump5], ignore_index=True)"
   ]
  },
  {
   "cell_type": "code",
   "execution_count": 35,
   "metadata": {
    "scrolled": true
   },
   "outputs": [
    {
     "data": {
      "text/html": [
       "<div>\n",
       "<style scoped>\n",
       "    .dataframe tbody tr th:only-of-type {\n",
       "        vertical-align: middle;\n",
       "    }\n",
       "\n",
       "    .dataframe tbody tr th {\n",
       "        vertical-align: top;\n",
       "    }\n",
       "\n",
       "    .dataframe thead th {\n",
       "        text-align: right;\n",
       "    }\n",
       "</style>\n",
       "<table border=\"1\" class=\"dataframe\">\n",
       "  <thead>\n",
       "    <tr style=\"text-align: right;\">\n",
       "      <th></th>\n",
       "      <th>id</th>\n",
       "      <th>username</th>\n",
       "      <th>source</th>\n",
       "      <th>tweet</th>\n",
       "      <th>year</th>\n",
       "      <th>month</th>\n",
       "      <th>date</th>\n",
       "      <th>Time</th>\n",
       "      <th>retweet_count</th>\n",
       "      <th>retweetsR</th>\n",
       "    </tr>\n",
       "  </thead>\n",
       "  <tbody>\n",
       "    <tr>\n",
       "      <th>0</th>\n",
       "      <td>1300583900503183360</td>\n",
       "      <td>JoeBiden</td>\n",
       "      <td>https://twitter.com/JoeBiden/status/1300583900...</td>\n",
       "      <td>Donald Trump looks at this violence and sees a...</td>\n",
       "      <td>2020</td>\n",
       "      <td>08</td>\n",
       "      <td>31</td>\n",
       "      <td>23:59</td>\n",
       "      <td>6551</td>\n",
       "      <td>0</td>\n",
       "    </tr>\n",
       "    <tr>\n",
       "      <th>1</th>\n",
       "      <td>1300576603295158272</td>\n",
       "      <td>JoeBiden</td>\n",
       "      <td>https://twitter.com/JoeBiden/status/1300576603...</td>\n",
       "      <td>Folks, we're just hours away from our first en...</td>\n",
       "      <td>2020</td>\n",
       "      <td>08</td>\n",
       "      <td>31</td>\n",
       "      <td>23:30</td>\n",
       "      <td>1863</td>\n",
       "      <td>0</td>\n",
       "    </tr>\n",
       "    <tr>\n",
       "      <th>2</th>\n",
       "      <td>1300569556382085120</td>\n",
       "      <td>JoeBiden</td>\n",
       "      <td>https://twitter.com/JoeBiden/status/1300569556...</td>\n",
       "      <td>The truth is Donald Trump can't stop the viole...</td>\n",
       "      <td>2020</td>\n",
       "      <td>08</td>\n",
       "      <td>31</td>\n",
       "      <td>23:02</td>\n",
       "      <td>14189</td>\n",
       "      <td>0</td>\n",
       "    </tr>\n",
       "    <tr>\n",
       "      <th>3</th>\n",
       "      <td>1300559741220016128</td>\n",
       "      <td>JoeBiden</td>\n",
       "      <td>https://twitter.com/JoeBiden/status/1300559741...</td>\n",
       "      <td>Anyone who met Amari will tell you that he was...</td>\n",
       "      <td>2020</td>\n",
       "      <td>08</td>\n",
       "      <td>31</td>\n",
       "      <td>22:23</td>\n",
       "      <td>2158</td>\n",
       "      <td>0</td>\n",
       "    </tr>\n",
       "    <tr>\n",
       "      <th>4</th>\n",
       "      <td>1300500098233839616</td>\n",
       "      <td>JoeBiden</td>\n",
       "      <td>https://twitter.com/JoeBiden/status/1300500098...</td>\n",
       "      <td>More cops have died from COVID this year than ...</td>\n",
       "      <td>2020</td>\n",
       "      <td>08</td>\n",
       "      <td>31</td>\n",
       "      <td>18:26</td>\n",
       "      <td>38212</td>\n",
       "      <td>0</td>\n",
       "    </tr>\n",
       "  </tbody>\n",
       "</table>\n",
       "</div>"
      ],
      "text/plain": [
       "                    id  username  \\\n",
       "0  1300583900503183360  JoeBiden   \n",
       "1  1300576603295158272  JoeBiden   \n",
       "2  1300569556382085120  JoeBiden   \n",
       "3  1300559741220016128  JoeBiden   \n",
       "4  1300500098233839616  JoeBiden   \n",
       "\n",
       "                                              source  \\\n",
       "0  https://twitter.com/JoeBiden/status/1300583900...   \n",
       "1  https://twitter.com/JoeBiden/status/1300576603...   \n",
       "2  https://twitter.com/JoeBiden/status/1300569556...   \n",
       "3  https://twitter.com/JoeBiden/status/1300559741...   \n",
       "4  https://twitter.com/JoeBiden/status/1300500098...   \n",
       "\n",
       "                                               tweet  year month date   Time  \\\n",
       "0  Donald Trump looks at this violence and sees a...  2020    08   31  23:59   \n",
       "1  Folks, we're just hours away from our first en...  2020    08   31  23:30   \n",
       "2  The truth is Donald Trump can't stop the viole...  2020    08   31  23:02   \n",
       "3  Anyone who met Amari will tell you that he was...  2020    08   31  22:23   \n",
       "4  More cops have died from COVID this year than ...  2020    08   31  18:26   \n",
       "\n",
       "   retweet_count  retweetsR  \n",
       "0           6551          0  \n",
       "1           1863          0  \n",
       "2          14189          0  \n",
       "3           2158          0  \n",
       "4          38212          0  "
      ]
     },
     "execution_count": 35,
     "metadata": {},
     "output_type": "execute_result"
    }
   ],
   "source": [
    "AllTweets.head()"
   ]
  },
  {
   "cell_type": "code",
   "execution_count": 36,
   "metadata": {},
   "outputs": [],
   "source": [
    "# Pickle AllTweets\n",
    "\n",
    "AllTweets.to_pickle(\"AllTweets.pkl\")"
   ]
  },
  {
   "cell_type": "markdown",
   "metadata": {},
   "source": [
    "# Text wrangling"
   ]
  },
  {
   "cell_type": "markdown",
   "metadata": {},
   "source": [
    "### Data cleaning the 'tweets' column in each dataframe\n",
    "\n",
    "#### Includes:\n",
    "- Making the text all lower case\n",
    "- Removing punctuation\n",
    "- Removing numerical values\n",
    "- Removing common non-sensical text (/n)\n",
    "- Tokenizing the text\n",
    "- Removing stop words\n",
    "\n",
    "## Biden"
   ]
  },
  {
   "cell_type": "code",
   "execution_count": 37,
   "metadata": {},
   "outputs": [],
   "source": [
    "from bs4 import BeautifulSoup\n",
    "import nltk\n",
    "from nltk.tokenize import RegexpTokenizer\n",
    "import matplotlib.pyplot as plt\n",
    "import seaborn as sns\n",
    "%matplotlib inline\n",
    "import numpy as np"
   ]
  },
  {
   "cell_type": "markdown",
   "metadata": {},
   "source": [
    "#### Convert tweets from objects into strings"
   ]
  },
  {
   "cell_type": "code",
   "execution_count": 38,
   "metadata": {
    "scrolled": true
   },
   "outputs": [
    {
     "data": {
      "text/plain": [
       "id                int64\n",
       "username         object\n",
       "source           object\n",
       "tweet            object\n",
       "year             object\n",
       "month            object\n",
       "date             object\n",
       "Time             object\n",
       "retweet_count     int64\n",
       "retweetsR         int64\n",
       "dtype: object"
      ]
     },
     "execution_count": 38,
     "metadata": {},
     "output_type": "execute_result"
    }
   ],
   "source": [
    "Biden5.dtypes"
   ]
  },
  {
   "cell_type": "code",
   "execution_count": 39,
   "metadata": {},
   "outputs": [],
   "source": [
    "Biden5['tweet'] = Biden5['tweet'].astype('str') "
   ]
  },
  {
   "cell_type": "code",
   "execution_count": 40,
   "metadata": {
    "scrolled": true
   },
   "outputs": [
    {
     "data": {
      "text/html": [
       "<div>\n",
       "<style scoped>\n",
       "    .dataframe tbody tr th:only-of-type {\n",
       "        vertical-align: middle;\n",
       "    }\n",
       "\n",
       "    .dataframe tbody tr th {\n",
       "        vertical-align: top;\n",
       "    }\n",
       "\n",
       "    .dataframe thead th {\n",
       "        text-align: right;\n",
       "    }\n",
       "</style>\n",
       "<table border=\"1\" class=\"dataframe\">\n",
       "  <thead>\n",
       "    <tr style=\"text-align: right;\">\n",
       "      <th></th>\n",
       "      <th>tweet</th>\n",
       "    </tr>\n",
       "  </thead>\n",
       "  <tbody>\n",
       "    <tr>\n",
       "      <th>0</th>\n",
       "      <td>Donald Trump looks at this violence and sees a...</td>\n",
       "    </tr>\n",
       "    <tr>\n",
       "      <th>1</th>\n",
       "      <td>Folks, we're just hours away from our first en...</td>\n",
       "    </tr>\n",
       "    <tr>\n",
       "      <th>2</th>\n",
       "      <td>The truth is Donald Trump can't stop the viole...</td>\n",
       "    </tr>\n",
       "    <tr>\n",
       "      <th>3</th>\n",
       "      <td>Anyone who met Amari will tell you that he was...</td>\n",
       "    </tr>\n",
       "    <tr>\n",
       "      <th>4</th>\n",
       "      <td>More cops have died from COVID this year than ...</td>\n",
       "    </tr>\n",
       "  </tbody>\n",
       "</table>\n",
       "</div>"
      ],
      "text/plain": [
       "                                               tweet\n",
       "0  Donald Trump looks at this violence and sees a...\n",
       "1  Folks, we're just hours away from our first en...\n",
       "2  The truth is Donald Trump can't stop the viole...\n",
       "3  Anyone who met Amari will tell you that he was...\n",
       "4  More cops have died from COVID this year than ..."
      ]
     },
     "execution_count": 40,
     "metadata": {},
     "output_type": "execute_result"
    }
   ],
   "source": [
    "# Isolate the tweets from the rest of the dataset\n",
    "\n",
    "BidenTweets = Biden5[['tweet']]\n",
    "BidenTweets.head()"
   ]
  },
  {
   "cell_type": "code",
   "execution_count": 41,
   "metadata": {},
   "outputs": [],
   "source": [
    "import re\n",
    "import string\n",
    "\n",
    "def clean_text1 (text): \n",
    "    '''Make text lowercase, remove text in brackets, remove symbols and punctuation, remove words with numbers.'''\n",
    "    text = text.lower()\n",
    "    text = re.sub('\\[.*?\\@]', '', text)\n",
    "    text = re.sub('[%s]' % re.escape(string.punctuation), '', text)\n",
    "    text = re.sub('\\w*\\d\\w*', '', text)\n",
    "    return text\n",
    "\n",
    "round1 = lambda x: clean_text1(x)"
   ]
  },
  {
   "cell_type": "code",
   "execution_count": 42,
   "metadata": {
    "scrolled": false
   },
   "outputs": [
    {
     "data": {
      "text/plain": [
       "0       donald trump looks at this violence and sees a...\n",
       "1       folks were just hours away from our first endo...\n",
       "2       the truth is donald trump cant stop the violen...\n",
       "3       anyone who met amari will tell you that he was...\n",
       "4       more cops have died from covid this year than ...\n",
       "                              ...                        \n",
       "5233    i’m for the buffett rule because it just makes...\n",
       "5234    in nh on  the vice president will give his tak...\n",
       "5235    news for you this morning vp biden will speak ...\n",
       "5236    campaign staff will run this account to keep y...\n",
       "5237    were excited to announce that  joebiden is bei...\n",
       "Name: tweet, Length: 5238, dtype: object"
      ]
     },
     "execution_count": 42,
     "metadata": {},
     "output_type": "execute_result"
    }
   ],
   "source": [
    "Biden_clean = BidenTweets['tweet'].apply(round1)\n",
    "Biden_clean"
   ]
  },
  {
   "cell_type": "code",
   "execution_count": 43,
   "metadata": {},
   "outputs": [],
   "source": [
    "def clean_text2(text):\n",
    "    '''Remove punctuation and unnecessary text that was missed in the first clean.'''\n",
    "    text = re.sub('[‘’“”…]', '', text)\n",
    "    text = re.sub('\\n', '', text)\n",
    "    return text\n",
    "\n",
    "round2 = lambda x: clean_text2(x)"
   ]
  },
  {
   "cell_type": "code",
   "execution_count": 44,
   "metadata": {
    "scrolled": false
   },
   "outputs": [
    {
     "data": {
      "text/plain": [
       "0       donald trump looks at this violence and sees a...\n",
       "1       folks were just hours away from our first endo...\n",
       "2       the truth is donald trump cant stop the violen...\n",
       "3       anyone who met amari will tell you that he was...\n",
       "4       more cops have died from covid this year than ...\n",
       "                              ...                        \n",
       "5233    im for the buffett rule because it just makes ...\n",
       "5234    in nh on  the vice president will give his tak...\n",
       "5235    news for you this morning vp biden will speak ...\n",
       "5236    campaign staff will run this account to keep y...\n",
       "5237    were excited to announce that  joebiden is bei...\n",
       "Name: tweet, Length: 5238, dtype: object"
      ]
     },
     "execution_count": 44,
     "metadata": {},
     "output_type": "execute_result"
    }
   ],
   "source": [
    "Biden_clean1 = Biden_clean.apply(round2)\n",
    "Biden_clean1"
   ]
  },
  {
   "cell_type": "markdown",
   "metadata": {},
   "source": [
    "### Create Document-Term Matrix \n",
    "\n",
    "#### Tokenize text and remove stop words "
   ]
  },
  {
   "cell_type": "code",
   "execution_count": 45,
   "metadata": {},
   "outputs": [],
   "source": [
    "import pickle \n",
    "from sklearn.feature_extraction.text import CountVectorizer\n",
    "\n",
    "cv = CountVectorizer(stop_words='english')\n",
    "Biden_cv = cv.fit_transform(Biden_clean1)"
   ]
  },
  {
   "cell_type": "code",
   "execution_count": 46,
   "metadata": {},
   "outputs": [],
   "source": [
    "Biden_dtm = pd.DataFrame(Biden_cv.toarray(), columns=cv.get_feature_names())\n",
    "Biden_dtm.index = Biden_clean1.index"
   ]
  },
  {
   "cell_type": "markdown",
   "metadata": {},
   "source": [
    "#### Pickle the document-term matrix, the cleaned data, and the CountVectorizer object"
   ]
  },
  {
   "cell_type": "code",
   "execution_count": 47,
   "metadata": {},
   "outputs": [],
   "source": [
    "Biden_dtm.to_pickle(\"Biden_dtm.pkl\")\n",
    "Biden_clean1.to_pickle(\"Biden.pkl\")\n",
    "pickle.dump(cv, open(\"cv.pkl\", \"wb\"))"
   ]
  },
  {
   "cell_type": "markdown",
   "metadata": {},
   "source": [
    "## Clinton\n",
    "\n",
    "### Data wrangling"
   ]
  },
  {
   "cell_type": "code",
   "execution_count": 48,
   "metadata": {},
   "outputs": [
    {
     "data": {
      "text/plain": [
       "0    True\n",
       "1    True\n",
       "2    True\n",
       "3    True\n",
       "4    True\n",
       "Name: username, dtype: bool"
      ]
     },
     "execution_count": 48,
     "metadata": {},
     "output_type": "execute_result"
    }
   ],
   "source": [
    "# Separate Clinton data from Trump's in the Clinton vs. Trump dataframe\n",
    "\n",
    "OnlyClinton = ClintonTrump5['username']=='HillaryClinton'\n",
    "OnlyClinton.head()"
   ]
  },
  {
   "cell_type": "code",
   "execution_count": 49,
   "metadata": {},
   "outputs": [
    {
     "data": {
      "text/html": [
       "<div>\n",
       "<style scoped>\n",
       "    .dataframe tbody tr th:only-of-type {\n",
       "        vertical-align: middle;\n",
       "    }\n",
       "\n",
       "    .dataframe tbody tr th {\n",
       "        vertical-align: top;\n",
       "    }\n",
       "\n",
       "    .dataframe thead th {\n",
       "        text-align: right;\n",
       "    }\n",
       "</style>\n",
       "<table border=\"1\" class=\"dataframe\">\n",
       "  <thead>\n",
       "    <tr style=\"text-align: right;\">\n",
       "      <th></th>\n",
       "      <th>id</th>\n",
       "      <th>username</th>\n",
       "      <th>tweet</th>\n",
       "      <th>source</th>\n",
       "      <th>retweetsR</th>\n",
       "      <th>retweet_count</th>\n",
       "      <th>year</th>\n",
       "      <th>month</th>\n",
       "      <th>date</th>\n",
       "      <th>Time</th>\n",
       "    </tr>\n",
       "  </thead>\n",
       "  <tbody>\n",
       "    <tr>\n",
       "      <th>0</th>\n",
       "      <td>780925634159796224</td>\n",
       "      <td>HillaryClinton</td>\n",
       "      <td>The question in this election: Who can put the...</td>\n",
       "      <td>{'media': [{'display_url': 'pic.twitter.com/Xr...</td>\n",
       "      <td>1</td>\n",
       "      <td>218</td>\n",
       "      <td>2016</td>\n",
       "      <td>09</td>\n",
       "      <td>28</td>\n",
       "      <td>00:22:34</td>\n",
       "    </tr>\n",
       "    <tr>\n",
       "      <th>1</th>\n",
       "      <td>780916180899037184</td>\n",
       "      <td>HillaryClinton</td>\n",
       "      <td>Last night, Donald Trump said not paying taxes...</td>\n",
       "      <td>{'media': [{'display_url': 'pic.twitter.com/t0...</td>\n",
       "      <td>0</td>\n",
       "      <td>2445</td>\n",
       "      <td>2016</td>\n",
       "      <td>09</td>\n",
       "      <td>27</td>\n",
       "      <td>23:45:00</td>\n",
       "    </tr>\n",
       "    <tr>\n",
       "      <th>2</th>\n",
       "      <td>780911564857761793</td>\n",
       "      <td>HillaryClinton</td>\n",
       "      <td>Couldn't be more proud of @HillaryClinton. Her...</td>\n",
       "      <td>{'user_mentions': [{'id_str': '1536791610', 'n...</td>\n",
       "      <td>0</td>\n",
       "      <td>7834</td>\n",
       "      <td>2016</td>\n",
       "      <td>09</td>\n",
       "      <td>27</td>\n",
       "      <td>23:26:40</td>\n",
       "    </tr>\n",
       "    <tr>\n",
       "      <th>3</th>\n",
       "      <td>780907038650068994</td>\n",
       "      <td>HillaryClinton</td>\n",
       "      <td>If we stand together, there's nothing we can't...</td>\n",
       "      <td>{'media': [{'display_url': 'pic.twitter.com/Q3...</td>\n",
       "      <td>1</td>\n",
       "      <td>916</td>\n",
       "      <td>2016</td>\n",
       "      <td>09</td>\n",
       "      <td>27</td>\n",
       "      <td>23:08:41</td>\n",
       "    </tr>\n",
       "    <tr>\n",
       "      <th>4</th>\n",
       "      <td>780897419462602752</td>\n",
       "      <td>HillaryClinton</td>\n",
       "      <td>Both candidates were asked about how they'd co...</td>\n",
       "      <td>{'user_mentions': [], 'symbols': [], 'urls': [...</td>\n",
       "      <td>1</td>\n",
       "      <td>859</td>\n",
       "      <td>2016</td>\n",
       "      <td>09</td>\n",
       "      <td>27</td>\n",
       "      <td>22:30:27</td>\n",
       "    </tr>\n",
       "    <tr>\n",
       "      <th>...</th>\n",
       "      <td>...</td>\n",
       "      <td>...</td>\n",
       "      <td>...</td>\n",
       "      <td>...</td>\n",
       "      <td>...</td>\n",
       "      <td>...</td>\n",
       "      <td>...</td>\n",
       "      <td>...</td>\n",
       "      <td>...</td>\n",
       "      <td>...</td>\n",
       "    </tr>\n",
       "    <tr>\n",
       "      <th>4913</th>\n",
       "      <td>721765314720100352</td>\n",
       "      <td>HillaryClinton</td>\n",
       "      <td>A great day in East Harlem, in photos. https:/...</td>\n",
       "      <td>{'media': [{'display_url': 'pic.twitter.com/jc...</td>\n",
       "      <td>1</td>\n",
       "      <td>837</td>\n",
       "      <td>2016</td>\n",
       "      <td>04</td>\n",
       "      <td>17</td>\n",
       "      <td>18:20:35</td>\n",
       "    </tr>\n",
       "    <tr>\n",
       "      <th>4914</th>\n",
       "      <td>721761955472650240</td>\n",
       "      <td>HillaryClinton</td>\n",
       "      <td>Meet three of the kids covered by the Children...</td>\n",
       "      <td>{'user_mentions': [{'id_str': '702147673651027...</td>\n",
       "      <td>0</td>\n",
       "      <td>540</td>\n",
       "      <td>2016</td>\n",
       "      <td>04</td>\n",
       "      <td>17</td>\n",
       "      <td>18:07:14</td>\n",
       "    </tr>\n",
       "    <tr>\n",
       "      <th>4915</th>\n",
       "      <td>721739927428403200</td>\n",
       "      <td>HillaryClinton</td>\n",
       "      <td>Your Sunday afternoon read: \"In a word, Clinto...</td>\n",
       "      <td>{'user_mentions': [{'id_str': '3061615740', 'n...</td>\n",
       "      <td>0</td>\n",
       "      <td>599</td>\n",
       "      <td>2016</td>\n",
       "      <td>04</td>\n",
       "      <td>17</td>\n",
       "      <td>16:39:42</td>\n",
       "    </tr>\n",
       "    <tr>\n",
       "      <th>4916</th>\n",
       "      <td>721733846920740864</td>\n",
       "      <td>HillaryClinton</td>\n",
       "      <td>“Muchos neoyorquinos luchan por pagar la renta...</td>\n",
       "      <td>{'user_mentions': [], 'symbols': [], 'urls': [...</td>\n",
       "      <td>1</td>\n",
       "      <td>429</td>\n",
       "      <td>2016</td>\n",
       "      <td>04</td>\n",
       "      <td>17</td>\n",
       "      <td>16:15:32</td>\n",
       "    </tr>\n",
       "    <tr>\n",
       "      <th>4918</th>\n",
       "      <td>721706797409689600</td>\n",
       "      <td>HillaryClinton</td>\n",
       "      <td>“I love you, New York! Go vote!” —@Carole_King...</td>\n",
       "      <td>{'user_mentions': [{'id_str': '702147673651027...</td>\n",
       "      <td>0</td>\n",
       "      <td>955</td>\n",
       "      <td>2016</td>\n",
       "      <td>04</td>\n",
       "      <td>17</td>\n",
       "      <td>14:28:03</td>\n",
       "    </tr>\n",
       "  </tbody>\n",
       "</table>\n",
       "<p>3226 rows × 10 columns</p>\n",
       "</div>"
      ],
      "text/plain": [
       "                      id        username  \\\n",
       "0     780925634159796224  HillaryClinton   \n",
       "1     780916180899037184  HillaryClinton   \n",
       "2     780911564857761793  HillaryClinton   \n",
       "3     780907038650068994  HillaryClinton   \n",
       "4     780897419462602752  HillaryClinton   \n",
       "...                  ...             ...   \n",
       "4913  721765314720100352  HillaryClinton   \n",
       "4914  721761955472650240  HillaryClinton   \n",
       "4915  721739927428403200  HillaryClinton   \n",
       "4916  721733846920740864  HillaryClinton   \n",
       "4918  721706797409689600  HillaryClinton   \n",
       "\n",
       "                                                  tweet  \\\n",
       "0     The question in this election: Who can put the...   \n",
       "1     Last night, Donald Trump said not paying taxes...   \n",
       "2     Couldn't be more proud of @HillaryClinton. Her...   \n",
       "3     If we stand together, there's nothing we can't...   \n",
       "4     Both candidates were asked about how they'd co...   \n",
       "...                                                 ...   \n",
       "4913  A great day in East Harlem, in photos. https:/...   \n",
       "4914  Meet three of the kids covered by the Children...   \n",
       "4915  Your Sunday afternoon read: \"In a word, Clinto...   \n",
       "4916  “Muchos neoyorquinos luchan por pagar la renta...   \n",
       "4918  “I love you, New York! Go vote!” —@Carole_King...   \n",
       "\n",
       "                                                 source  retweetsR  \\\n",
       "0     {'media': [{'display_url': 'pic.twitter.com/Xr...          1   \n",
       "1     {'media': [{'display_url': 'pic.twitter.com/t0...          0   \n",
       "2     {'user_mentions': [{'id_str': '1536791610', 'n...          0   \n",
       "3     {'media': [{'display_url': 'pic.twitter.com/Q3...          1   \n",
       "4     {'user_mentions': [], 'symbols': [], 'urls': [...          1   \n",
       "...                                                 ...        ...   \n",
       "4913  {'media': [{'display_url': 'pic.twitter.com/jc...          1   \n",
       "4914  {'user_mentions': [{'id_str': '702147673651027...          0   \n",
       "4915  {'user_mentions': [{'id_str': '3061615740', 'n...          0   \n",
       "4916  {'user_mentions': [], 'symbols': [], 'urls': [...          1   \n",
       "4918  {'user_mentions': [{'id_str': '702147673651027...          0   \n",
       "\n",
       "      retweet_count  year month date      Time  \n",
       "0               218  2016    09   28  00:22:34  \n",
       "1              2445  2016    09   27  23:45:00  \n",
       "2              7834  2016    09   27  23:26:40  \n",
       "3               916  2016    09   27  23:08:41  \n",
       "4               859  2016    09   27  22:30:27  \n",
       "...             ...   ...   ...  ...       ...  \n",
       "4913            837  2016    04   17  18:20:35  \n",
       "4914            540  2016    04   17  18:07:14  \n",
       "4915            599  2016    04   17  16:39:42  \n",
       "4916            429  2016    04   17  16:15:32  \n",
       "4918            955  2016    04   17  14:28:03  \n",
       "\n",
       "[3226 rows x 10 columns]"
      ]
     },
     "execution_count": 49,
     "metadata": {},
     "output_type": "execute_result"
    }
   ],
   "source": [
    "Clinton = ClintonTrump5[OnlyClinton]\n",
    "Clinton"
   ]
  },
  {
   "cell_type": "code",
   "execution_count": 50,
   "metadata": {},
   "outputs": [
    {
     "data": {
      "text/plain": [
       "id                int64\n",
       "username         object\n",
       "tweet            object\n",
       "source           object\n",
       "retweetsR         int64\n",
       "retweet_count     int64\n",
       "year             object\n",
       "month            object\n",
       "date             object\n",
       "Time             object\n",
       "dtype: object"
      ]
     },
     "execution_count": 50,
     "metadata": {},
     "output_type": "execute_result"
    }
   ],
   "source": [
    "Clinton.dtypes"
   ]
  },
  {
   "cell_type": "code",
   "execution_count": 51,
   "metadata": {},
   "outputs": [
    {
     "name": "stderr",
     "output_type": "stream",
     "text": [
      "/opt/anaconda3/lib/python3.7/site-packages/ipykernel_launcher.py:1: SettingWithCopyWarning: \n",
      "A value is trying to be set on a copy of a slice from a DataFrame.\n",
      "Try using .loc[row_indexer,col_indexer] = value instead\n",
      "\n",
      "See the caveats in the documentation: https://pandas.pydata.org/pandas-docs/stable/user_guide/indexing.html#returning-a-view-versus-a-copy\n",
      "  \"\"\"Entry point for launching an IPython kernel.\n"
     ]
    }
   ],
   "source": [
    "Clinton['tweet'] = Clinton['tweet'].astype('str') "
   ]
  },
  {
   "cell_type": "code",
   "execution_count": 52,
   "metadata": {},
   "outputs": [
    {
     "data": {
      "text/html": [
       "<div>\n",
       "<style scoped>\n",
       "    .dataframe tbody tr th:only-of-type {\n",
       "        vertical-align: middle;\n",
       "    }\n",
       "\n",
       "    .dataframe tbody tr th {\n",
       "        vertical-align: top;\n",
       "    }\n",
       "\n",
       "    .dataframe thead th {\n",
       "        text-align: right;\n",
       "    }\n",
       "</style>\n",
       "<table border=\"1\" class=\"dataframe\">\n",
       "  <thead>\n",
       "    <tr style=\"text-align: right;\">\n",
       "      <th></th>\n",
       "      <th>tweet</th>\n",
       "    </tr>\n",
       "  </thead>\n",
       "  <tbody>\n",
       "    <tr>\n",
       "      <th>0</th>\n",
       "      <td>The question in this election: Who can put the...</td>\n",
       "    </tr>\n",
       "    <tr>\n",
       "      <th>1</th>\n",
       "      <td>Last night, Donald Trump said not paying taxes...</td>\n",
       "    </tr>\n",
       "    <tr>\n",
       "      <th>2</th>\n",
       "      <td>Couldn't be more proud of @HillaryClinton. Her...</td>\n",
       "    </tr>\n",
       "    <tr>\n",
       "      <th>3</th>\n",
       "      <td>If we stand together, there's nothing we can't...</td>\n",
       "    </tr>\n",
       "    <tr>\n",
       "      <th>4</th>\n",
       "      <td>Both candidates were asked about how they'd co...</td>\n",
       "    </tr>\n",
       "  </tbody>\n",
       "</table>\n",
       "</div>"
      ],
      "text/plain": [
       "                                               tweet\n",
       "0  The question in this election: Who can put the...\n",
       "1  Last night, Donald Trump said not paying taxes...\n",
       "2  Couldn't be more proud of @HillaryClinton. Her...\n",
       "3  If we stand together, there's nothing we can't...\n",
       "4  Both candidates were asked about how they'd co..."
      ]
     },
     "execution_count": 52,
     "metadata": {},
     "output_type": "execute_result"
    }
   ],
   "source": [
    "ClintonTweets = Clinton[['tweet']]\n",
    "ClintonTweets.head()"
   ]
  },
  {
   "cell_type": "markdown",
   "metadata": {},
   "source": [
    "### Data cleaning"
   ]
  },
  {
   "cell_type": "code",
   "execution_count": 53,
   "metadata": {},
   "outputs": [],
   "source": [
    "def clean_text1 (text): \n",
    "    '''Make text lowercase, remove text in brackets, remove symbols and punctuation, remove words with numbers.'''\n",
    "    text = text.lower()\n",
    "    text = re.sub('\\[.*?\\@]', '', text)\n",
    "    text = re.sub('[%s]' % re.escape(string.punctuation), '', text)\n",
    "    text = re.sub('\\w*\\d\\w*', '', text)\n",
    "    return text\n",
    "\n",
    "round1 = lambda x: clean_text1(x)"
   ]
  },
  {
   "cell_type": "code",
   "execution_count": 54,
   "metadata": {},
   "outputs": [
    {
     "data": {
      "text/plain": [
       "0       the question in this election who can put the ...\n",
       "1       last night donald trump said not paying taxes ...\n",
       "2       couldnt be more proud of hillaryclinton her vi...\n",
       "3       if we stand together theres nothing we cant do...\n",
       "4       both candidates were asked about how theyd con...\n",
       "                              ...                        \n",
       "4913    a great day in east harlem in photos httpstcog...\n",
       "4914    meet three of the kids covered by the children...\n",
       "4915    your sunday afternoon read in a word clinton —...\n",
       "4916    “muchos neoyorquinos luchan por pagar la renta...\n",
       "4918          “i love you new york go vote” —caroleking\\n\n",
       "Name: tweet, Length: 3226, dtype: object"
      ]
     },
     "execution_count": 54,
     "metadata": {},
     "output_type": "execute_result"
    }
   ],
   "source": [
    "Clinton_clean = ClintonTweets['tweet'].apply(round1)\n",
    "Clinton_clean"
   ]
  },
  {
   "cell_type": "code",
   "execution_count": 55,
   "metadata": {},
   "outputs": [],
   "source": [
    "def clean_text2(text):\n",
    "    '''Remove punctuation and unnecessary text that was missed in the first clean.'''\n",
    "    text = re.sub('[‘’“”…—]', '', text)\n",
    "    text = re.sub('\\n', '', text)\n",
    "    return text\n",
    "\n",
    "round2 = lambda x: clean_text2(x)"
   ]
  },
  {
   "cell_type": "code",
   "execution_count": 56,
   "metadata": {},
   "outputs": [
    {
     "data": {
      "text/plain": [
       "0       the question in this election who can put the ...\n",
       "1       last night donald trump said not paying taxes ...\n",
       "2       couldnt be more proud of hillaryclinton her vi...\n",
       "3       if we stand together theres nothing we cant do...\n",
       "4       both candidates were asked about how theyd con...\n",
       "                              ...                        \n",
       "4913    a great day in east harlem in photos httpstcog...\n",
       "4914    meet three of the kids covered by the children...\n",
       "4915    your sunday afternoon read in a word clinton p...\n",
       "4916    muchos neoyorquinos luchan por pagar la renta ...\n",
       "4918               i love you new york go vote caroleking\n",
       "Name: tweet, Length: 3226, dtype: object"
      ]
     },
     "execution_count": 56,
     "metadata": {},
     "output_type": "execute_result"
    }
   ],
   "source": [
    "Clinton_clean1 = Clinton_clean.apply(round2)\n",
    "Clinton_clean1"
   ]
  },
  {
   "cell_type": "markdown",
   "metadata": {},
   "source": [
    "### Create Document-Term Matrix \n",
    "\n",
    "#### Tokenize text and remove stop words "
   ]
  },
  {
   "cell_type": "code",
   "execution_count": 57,
   "metadata": {},
   "outputs": [],
   "source": [
    "cv = CountVectorizer(stop_words='english')\n",
    "Clinton_cv = cv.fit_transform(Clinton_clean1)"
   ]
  },
  {
   "cell_type": "code",
   "execution_count": 58,
   "metadata": {},
   "outputs": [],
   "source": [
    "Clinton_dtm = pd.DataFrame(Clinton_cv.toarray(), columns=cv.get_feature_names())\n",
    "Clinton_dtm.index = Clinton_clean1.index"
   ]
  },
  {
   "cell_type": "markdown",
   "metadata": {},
   "source": [
    "#### Pickle the document-term matrix, the cleaned data, and the CountVectorizer object"
   ]
  },
  {
   "cell_type": "code",
   "execution_count": 59,
   "metadata": {},
   "outputs": [],
   "source": [
    "Clinton_dtm.to_pickle(\"Clinton_dtm.pkl\")\n",
    "Clinton_clean1.to_pickle(\"Clinton.pkl\")\n",
    "pickle.dump(cv, open(\"cv.pkl\", \"wb\"))"
   ]
  },
  {
   "cell_type": "markdown",
   "metadata": {},
   "source": [
    "## Trump\n",
    "\n",
    "### Data wrangling"
   ]
  },
  {
   "cell_type": "code",
   "execution_count": 60,
   "metadata": {},
   "outputs": [
    {
     "data": {
      "text/plain": [
       "0    False\n",
       "1    False\n",
       "2    False\n",
       "3    False\n",
       "4    False\n",
       "Name: username, dtype: bool"
      ]
     },
     "execution_count": 60,
     "metadata": {},
     "output_type": "execute_result"
    }
   ],
   "source": [
    "OnlyTrump = ClintonTrump5['username']=='realDonaldTrump'\n",
    "OnlyTrump.head()"
   ]
  },
  {
   "cell_type": "code",
   "execution_count": 61,
   "metadata": {},
   "outputs": [
    {
     "data": {
      "text/html": [
       "<div>\n",
       "<style scoped>\n",
       "    .dataframe tbody tr th:only-of-type {\n",
       "        vertical-align: middle;\n",
       "    }\n",
       "\n",
       "    .dataframe tbody tr th {\n",
       "        vertical-align: top;\n",
       "    }\n",
       "\n",
       "    .dataframe thead th {\n",
       "        text-align: right;\n",
       "    }\n",
       "</style>\n",
       "<table border=\"1\" class=\"dataframe\">\n",
       "  <thead>\n",
       "    <tr style=\"text-align: right;\">\n",
       "      <th></th>\n",
       "      <th>id</th>\n",
       "      <th>username</th>\n",
       "      <th>tweet</th>\n",
       "      <th>source</th>\n",
       "      <th>retweetsR</th>\n",
       "      <th>retweet_count</th>\n",
       "      <th>year</th>\n",
       "      <th>month</th>\n",
       "      <th>date</th>\n",
       "      <th>Time</th>\n",
       "    </tr>\n",
       "  </thead>\n",
       "  <tbody>\n",
       "    <tr>\n",
       "      <th>5</th>\n",
       "      <td>780893126605037568</td>\n",
       "      <td>realDonaldTrump</td>\n",
       "      <td>Join me for a 3pm rally - tomorrow at the Mid-...</td>\n",
       "      <td>{'user_mentions': [], 'symbols': [], 'urls': [...</td>\n",
       "      <td>1</td>\n",
       "      <td>2181</td>\n",
       "      <td>2016</td>\n",
       "      <td>09</td>\n",
       "      <td>27</td>\n",
       "      <td>22:13:24</td>\n",
       "    </tr>\n",
       "    <tr>\n",
       "      <th>8</th>\n",
       "      <td>780876760086880256</td>\n",
       "      <td>realDonaldTrump</td>\n",
       "      <td>Once again, we will have a government of, by a...</td>\n",
       "      <td>{'media': [{'display_url': 'pic.twitter.com/uY...</td>\n",
       "      <td>1</td>\n",
       "      <td>4132</td>\n",
       "      <td>2016</td>\n",
       "      <td>09</td>\n",
       "      <td>27</td>\n",
       "      <td>21:08:22</td>\n",
       "    </tr>\n",
       "    <tr>\n",
       "      <th>11</th>\n",
       "      <td>780867418012979204</td>\n",
       "      <td>realDonaldTrump</td>\n",
       "      <td>On National #VoterRegistrationDay, make sure y...</td>\n",
       "      <td>{'user_mentions': [{'id_str': '11134252', 'nam...</td>\n",
       "      <td>0</td>\n",
       "      <td>2953</td>\n",
       "      <td>2016</td>\n",
       "      <td>09</td>\n",
       "      <td>27</td>\n",
       "      <td>20:31:14</td>\n",
       "    </tr>\n",
       "    <tr>\n",
       "      <th>12</th>\n",
       "      <td>780863218646474757</td>\n",
       "      <td>realDonaldTrump</td>\n",
       "      <td>Hillary Clinton's Campaign Continues To Make F...</td>\n",
       "      <td>{'user_mentions': [], 'symbols': [], 'urls': [...</td>\n",
       "      <td>1</td>\n",
       "      <td>3833</td>\n",
       "      <td>2016</td>\n",
       "      <td>09</td>\n",
       "      <td>27</td>\n",
       "      <td>20:14:33</td>\n",
       "    </tr>\n",
       "    <tr>\n",
       "      <th>13</th>\n",
       "      <td>780861171238834176</td>\n",
       "      <td>realDonaldTrump</td>\n",
       "      <td>'CNBC, Time magazine online polls say Donald T...</td>\n",
       "      <td>{'user_mentions': [{'id_str': '14662354', 'nam...</td>\n",
       "      <td>1</td>\n",
       "      <td>4236</td>\n",
       "      <td>2016</td>\n",
       "      <td>09</td>\n",
       "      <td>27</td>\n",
       "      <td>20:06:25</td>\n",
       "    </tr>\n",
       "    <tr>\n",
       "      <th>...</th>\n",
       "      <td>...</td>\n",
       "      <td>...</td>\n",
       "      <td>...</td>\n",
       "      <td>...</td>\n",
       "      <td>...</td>\n",
       "      <td>...</td>\n",
       "      <td>...</td>\n",
       "      <td>...</td>\n",
       "      <td>...</td>\n",
       "      <td>...</td>\n",
       "    </tr>\n",
       "    <tr>\n",
       "      <th>6439</th>\n",
       "      <td>684219579548041218</td>\n",
       "      <td>realDonaldTrump</td>\n",
       "      <td>\"@lilredfrmkokomo: @realDonaldTrump My Faceboo...</td>\n",
       "      <td>{'user_mentions': [{'id_str': '26122621', 'nam...</td>\n",
       "      <td>1</td>\n",
       "      <td>1110</td>\n",
       "      <td>2016</td>\n",
       "      <td>01</td>\n",
       "      <td>05</td>\n",
       "      <td>03:47:14</td>\n",
       "    </tr>\n",
       "    <tr>\n",
       "      <th>6440</th>\n",
       "      <td>684218836569206784</td>\n",
       "      <td>realDonaldTrump</td>\n",
       "      <td>\"@marybnall01: @realDonaldTrump watched lowell...</td>\n",
       "      <td>{'user_mentions': [{'id_str': '3477455725', 'n...</td>\n",
       "      <td>1</td>\n",
       "      <td>855</td>\n",
       "      <td>2016</td>\n",
       "      <td>01</td>\n",
       "      <td>05</td>\n",
       "      <td>03:44:17</td>\n",
       "    </tr>\n",
       "    <tr>\n",
       "      <th>6441</th>\n",
       "      <td>684218305100525569</td>\n",
       "      <td>realDonaldTrump</td>\n",
       "      <td>\"@ghosthunter_lol: Iowa key endorsement for @r...</td>\n",
       "      <td>{'media': [{'display_url': 'pic.twitter.com/JB...</td>\n",
       "      <td>1</td>\n",
       "      <td>2315</td>\n",
       "      <td>2016</td>\n",
       "      <td>01</td>\n",
       "      <td>05</td>\n",
       "      <td>03:42:10</td>\n",
       "    </tr>\n",
       "    <tr>\n",
       "      <th>6442</th>\n",
       "      <td>684217554861199360</td>\n",
       "      <td>realDonaldTrump</td>\n",
       "      <td>\"@iLoveiDevices: @EdwinRo47796972 @happyjack22...</td>\n",
       "      <td>{'user_mentions': [{'id_str': '42568997', 'nam...</td>\n",
       "      <td>1</td>\n",
       "      <td>1054</td>\n",
       "      <td>2016</td>\n",
       "      <td>01</td>\n",
       "      <td>05</td>\n",
       "      <td>03:39:11</td>\n",
       "    </tr>\n",
       "    <tr>\n",
       "      <th>6443</th>\n",
       "      <td>684216973815844866</td>\n",
       "      <td>realDonaldTrump</td>\n",
       "      <td>\"@SalRiccobono: @realDonaldTrump @troyconway D...</td>\n",
       "      <td>{'user_mentions': [{'id_str': '2358794621', 'n...</td>\n",
       "      <td>1</td>\n",
       "      <td>748</td>\n",
       "      <td>2016</td>\n",
       "      <td>01</td>\n",
       "      <td>05</td>\n",
       "      <td>03:36:53</td>\n",
       "    </tr>\n",
       "  </tbody>\n",
       "</table>\n",
       "<p>3218 rows × 10 columns</p>\n",
       "</div>"
      ],
      "text/plain": [
       "                      id         username  \\\n",
       "5     780893126605037568  realDonaldTrump   \n",
       "8     780876760086880256  realDonaldTrump   \n",
       "11    780867418012979204  realDonaldTrump   \n",
       "12    780863218646474757  realDonaldTrump   \n",
       "13    780861171238834176  realDonaldTrump   \n",
       "...                  ...              ...   \n",
       "6439  684219579548041218  realDonaldTrump   \n",
       "6440  684218836569206784  realDonaldTrump   \n",
       "6441  684218305100525569  realDonaldTrump   \n",
       "6442  684217554861199360  realDonaldTrump   \n",
       "6443  684216973815844866  realDonaldTrump   \n",
       "\n",
       "                                                  tweet  \\\n",
       "5     Join me for a 3pm rally - tomorrow at the Mid-...   \n",
       "8     Once again, we will have a government of, by a...   \n",
       "11    On National #VoterRegistrationDay, make sure y...   \n",
       "12    Hillary Clinton's Campaign Continues To Make F...   \n",
       "13    'CNBC, Time magazine online polls say Donald T...   \n",
       "...                                                 ...   \n",
       "6439  \"@lilredfrmkokomo: @realDonaldTrump My Faceboo...   \n",
       "6440  \"@marybnall01: @realDonaldTrump watched lowell...   \n",
       "6441  \"@ghosthunter_lol: Iowa key endorsement for @r...   \n",
       "6442  \"@iLoveiDevices: @EdwinRo47796972 @happyjack22...   \n",
       "6443  \"@SalRiccobono: @realDonaldTrump @troyconway D...   \n",
       "\n",
       "                                                 source  retweetsR  \\\n",
       "5     {'user_mentions': [], 'symbols': [], 'urls': [...          1   \n",
       "8     {'media': [{'display_url': 'pic.twitter.com/uY...          1   \n",
       "11    {'user_mentions': [{'id_str': '11134252', 'nam...          0   \n",
       "12    {'user_mentions': [], 'symbols': [], 'urls': [...          1   \n",
       "13    {'user_mentions': [{'id_str': '14662354', 'nam...          1   \n",
       "...                                                 ...        ...   \n",
       "6439  {'user_mentions': [{'id_str': '26122621', 'nam...          1   \n",
       "6440  {'user_mentions': [{'id_str': '3477455725', 'n...          1   \n",
       "6441  {'media': [{'display_url': 'pic.twitter.com/JB...          1   \n",
       "6442  {'user_mentions': [{'id_str': '42568997', 'nam...          1   \n",
       "6443  {'user_mentions': [{'id_str': '2358794621', 'n...          1   \n",
       "\n",
       "      retweet_count  year month date      Time  \n",
       "5              2181  2016    09   27  22:13:24  \n",
       "8              4132  2016    09   27  21:08:22  \n",
       "11             2953  2016    09   27  20:31:14  \n",
       "12             3833  2016    09   27  20:14:33  \n",
       "13             4236  2016    09   27  20:06:25  \n",
       "...             ...   ...   ...  ...       ...  \n",
       "6439           1110  2016    01   05  03:47:14  \n",
       "6440            855  2016    01   05  03:44:17  \n",
       "6441           2315  2016    01   05  03:42:10  \n",
       "6442           1054  2016    01   05  03:39:11  \n",
       "6443            748  2016    01   05  03:36:53  \n",
       "\n",
       "[3218 rows x 10 columns]"
      ]
     },
     "execution_count": 61,
     "metadata": {},
     "output_type": "execute_result"
    }
   ],
   "source": [
    "Trump = ClintonTrump5[OnlyTrump]\n",
    "Trump"
   ]
  },
  {
   "cell_type": "code",
   "execution_count": 62,
   "metadata": {},
   "outputs": [
    {
     "data": {
      "text/plain": [
       "id                int64\n",
       "username         object\n",
       "tweet            object\n",
       "source           object\n",
       "retweetsR         int64\n",
       "retweet_count     int64\n",
       "year             object\n",
       "month            object\n",
       "date             object\n",
       "Time             object\n",
       "dtype: object"
      ]
     },
     "execution_count": 62,
     "metadata": {},
     "output_type": "execute_result"
    }
   ],
   "source": [
    "Trump.dtypes"
   ]
  },
  {
   "cell_type": "code",
   "execution_count": 63,
   "metadata": {},
   "outputs": [
    {
     "name": "stderr",
     "output_type": "stream",
     "text": [
      "/opt/anaconda3/lib/python3.7/site-packages/ipykernel_launcher.py:1: SettingWithCopyWarning: \n",
      "A value is trying to be set on a copy of a slice from a DataFrame.\n",
      "Try using .loc[row_indexer,col_indexer] = value instead\n",
      "\n",
      "See the caveats in the documentation: https://pandas.pydata.org/pandas-docs/stable/user_guide/indexing.html#returning-a-view-versus-a-copy\n",
      "  \"\"\"Entry point for launching an IPython kernel.\n"
     ]
    }
   ],
   "source": [
    "Trump['tweet'] = Trump['tweet'].astype('str') "
   ]
  },
  {
   "cell_type": "code",
   "execution_count": 64,
   "metadata": {},
   "outputs": [
    {
     "data": {
      "text/html": [
       "<div>\n",
       "<style scoped>\n",
       "    .dataframe tbody tr th:only-of-type {\n",
       "        vertical-align: middle;\n",
       "    }\n",
       "\n",
       "    .dataframe tbody tr th {\n",
       "        vertical-align: top;\n",
       "    }\n",
       "\n",
       "    .dataframe thead th {\n",
       "        text-align: right;\n",
       "    }\n",
       "</style>\n",
       "<table border=\"1\" class=\"dataframe\">\n",
       "  <thead>\n",
       "    <tr style=\"text-align: right;\">\n",
       "      <th></th>\n",
       "      <th>tweet</th>\n",
       "    </tr>\n",
       "  </thead>\n",
       "  <tbody>\n",
       "    <tr>\n",
       "      <th>5</th>\n",
       "      <td>Join me for a 3pm rally - tomorrow at the Mid-...</td>\n",
       "    </tr>\n",
       "    <tr>\n",
       "      <th>8</th>\n",
       "      <td>Once again, we will have a government of, by a...</td>\n",
       "    </tr>\n",
       "    <tr>\n",
       "      <th>11</th>\n",
       "      <td>On National #VoterRegistrationDay, make sure y...</td>\n",
       "    </tr>\n",
       "    <tr>\n",
       "      <th>12</th>\n",
       "      <td>Hillary Clinton's Campaign Continues To Make F...</td>\n",
       "    </tr>\n",
       "    <tr>\n",
       "      <th>13</th>\n",
       "      <td>'CNBC, Time magazine online polls say Donald T...</td>\n",
       "    </tr>\n",
       "  </tbody>\n",
       "</table>\n",
       "</div>"
      ],
      "text/plain": [
       "                                                tweet\n",
       "5   Join me for a 3pm rally - tomorrow at the Mid-...\n",
       "8   Once again, we will have a government of, by a...\n",
       "11  On National #VoterRegistrationDay, make sure y...\n",
       "12  Hillary Clinton's Campaign Continues To Make F...\n",
       "13  'CNBC, Time magazine online polls say Donald T..."
      ]
     },
     "execution_count": 64,
     "metadata": {},
     "output_type": "execute_result"
    }
   ],
   "source": [
    "TrumpTweets = Trump[['tweet']]\n",
    "TrumpTweets.head()"
   ]
  },
  {
   "cell_type": "markdown",
   "metadata": {},
   "source": [
    "### Data cleaning"
   ]
  },
  {
   "cell_type": "code",
   "execution_count": 65,
   "metadata": {},
   "outputs": [],
   "source": [
    "def clean_text1 (text): \n",
    "    '''Make text lowercase, remove text in brackets, remove symbols and punctuation, remove words with numbers.'''\n",
    "    text = text.lower()\n",
    "    text = re.sub('\\[.*?\\@]', '', text)\n",
    "    text = re.sub('[%s]' % re.escape(string.punctuation), '', text)\n",
    "    text = re.sub('\\w*\\d\\w*', '', text)\n",
    "    return text\n",
    "\n",
    "round1 = lambda x: clean_text1(x)"
   ]
  },
  {
   "cell_type": "code",
   "execution_count": 66,
   "metadata": {},
   "outputs": [
    {
     "data": {
      "text/plain": [
       "5       join me for a  rally  tomorrow at the midameri...\n",
       "8       once again we will have a government of by and...\n",
       "11      on national voterregistrationday make sure you...\n",
       "12      hillary clintons campaign continues to make fa...\n",
       "13      cnbc time magazine online polls say donald tru...\n",
       "                              ...                        \n",
       "6439    lilredfrmkokomo realdonaldtrump my facebook gr...\n",
       "6440     realdonaldtrump watched lowell mass speech aw...\n",
       "6441    ghosthunterlol iowa key endorsement for realdo...\n",
       "6442    iloveidevices   foxnews krauthammer  minimizin...\n",
       "6443    salriccobono realdonaldtrump troyconway donald...\n",
       "Name: tweet, Length: 3218, dtype: object"
      ]
     },
     "execution_count": 66,
     "metadata": {},
     "output_type": "execute_result"
    }
   ],
   "source": [
    "Trump_clean = TrumpTweets['tweet'].apply(round1)\n",
    "Trump_clean"
   ]
  },
  {
   "cell_type": "code",
   "execution_count": 67,
   "metadata": {},
   "outputs": [],
   "source": [
    "def clean_text2(text):\n",
    "    '''Remove punctuation and unnecessary text that was missed in the first clean.'''\n",
    "    text = re.sub('[‘’“”…—]', '', text)\n",
    "    text = re.sub('\\n', '', text)\n",
    "    return text\n",
    "\n",
    "round2 = lambda x: clean_text2(x)"
   ]
  },
  {
   "cell_type": "code",
   "execution_count": 68,
   "metadata": {},
   "outputs": [
    {
     "data": {
      "text/plain": [
       "5       join me for a  rally  tomorrow at the midameri...\n",
       "8       once again we will have a government of by and...\n",
       "11      on national voterregistrationday make sure you...\n",
       "12      hillary clintons campaign continues to make fa...\n",
       "13      cnbc time magazine online polls say donald tru...\n",
       "                              ...                        \n",
       "6439    lilredfrmkokomo realdonaldtrump my facebook gr...\n",
       "6440     realdonaldtrump watched lowell mass speech aw...\n",
       "6441    ghosthunterlol iowa key endorsement for realdo...\n",
       "6442    iloveidevices   foxnews krauthammer  minimizin...\n",
       "6443    salriccobono realdonaldtrump troyconway donald...\n",
       "Name: tweet, Length: 3218, dtype: object"
      ]
     },
     "execution_count": 68,
     "metadata": {},
     "output_type": "execute_result"
    }
   ],
   "source": [
    "Trump_clean1 = Trump_clean.apply(round2)\n",
    "Trump_clean1"
   ]
  },
  {
   "cell_type": "markdown",
   "metadata": {},
   "source": [
    "### Create Document-Term Matrix \n",
    "\n",
    "#### Tokenize text and remove stop words "
   ]
  },
  {
   "cell_type": "code",
   "execution_count": 69,
   "metadata": {},
   "outputs": [],
   "source": [
    "cv = CountVectorizer(stop_words='english')\n",
    "Trump_cv = cv.fit_transform(Trump_clean1)"
   ]
  },
  {
   "cell_type": "code",
   "execution_count": 70,
   "metadata": {},
   "outputs": [],
   "source": [
    "Trump_dtm = pd.DataFrame(Trump_cv.toarray(), columns=cv.get_feature_names())\n",
    "Trump_dtm.index = Trump_clean1.index"
   ]
  },
  {
   "cell_type": "markdown",
   "metadata": {},
   "source": [
    "#### Pickle the document-term matrix, the cleaned data, and the CountVectorizer object"
   ]
  },
  {
   "cell_type": "code",
   "execution_count": 71,
   "metadata": {},
   "outputs": [],
   "source": [
    "Trump_dtm.to_pickle(\"Trump_dtm.pkl\")\n",
    "Trump_clean1.to_pickle(\"Trump.pkl\")\n",
    "pickle.dump(cv, open(\"cv.pkl\", \"wb\"))"
   ]
  }
 ],
 "metadata": {
  "kernelspec": {
   "display_name": "Python 3",
   "language": "python",
   "name": "python3"
  },
  "language_info": {
   "codemirror_mode": {
    "name": "ipython",
    "version": 3
   },
   "file_extension": ".py",
   "mimetype": "text/x-python",
   "name": "python",
   "nbconvert_exporter": "python",
   "pygments_lexer": "ipython3",
   "version": "3.7.6"
  }
 },
 "nbformat": 4,
 "nbformat_minor": 4
}
